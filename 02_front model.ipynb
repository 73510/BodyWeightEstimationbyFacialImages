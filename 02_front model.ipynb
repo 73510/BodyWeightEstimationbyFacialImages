{
 "cells": [
  {
   "cell_type": "code",
   "execution_count": 114,
   "metadata": {},
   "outputs": [],
   "source": [
    "import numpy as np\n",
    "import matplotlib.pyplot as plt\n",
    "import pandas as pd\n",
    "import seaborn as sns"
   ]
  },
  {
   "cell_type": "code",
   "execution_count": 115,
   "metadata": {},
   "outputs": [],
   "source": [
    "import os\n",
    "os.environ[\"CUDA_VISIBLE_DEVICES\"] = \"1\"\n",
    "os.environ[\"TF_CPP_MIN_LOG_LEVEL\"] = \"1\""
   ]
  },
  {
   "cell_type": "code",
   "execution_count": 116,
   "metadata": {},
   "outputs": [],
   "source": [
    "import tensorflow as tf"
   ]
  },
  {
   "cell_type": "code",
   "execution_count": 117,
   "metadata": {},
   "outputs": [],
   "source": [
    "import tensorflow.keras.backend as K"
   ]
  },
  {
   "cell_type": "code",
   "execution_count": 118,
   "metadata": {},
   "outputs": [],
   "source": [
    "from tensorflow.keras.applications import EfficientNetB0\n",
    "from tensorflow.keras.applications.efficientnet import preprocess_input\n",
    "import matplotlib.pyplot as plt"
   ]
  },
  {
   "cell_type": "code",
   "execution_count": 119,
   "metadata": {},
   "outputs": [],
   "source": [
    "# gpus = tf.config.experimental.list_physical_devices('GPU')\n",
    "# if gpus:\n",
    "#   try:\n",
    "#     tf.config.experimental.set_virtual_device_configuration(gpus[0], [tf.config.experimental.VirtualDeviceConfiguration(memory_limit=1024*6)])\n",
    "#   except RuntimeError as e:\n",
    "#     print(e)"
   ]
  },
  {
   "cell_type": "code",
   "execution_count": 120,
   "metadata": {},
   "outputs": [],
   "source": [
    "df = pd.read_csv('edge_images/preprocessed.csv')"
   ]
  },
  {
   "cell_type": "code",
   "execution_count": 121,
   "metadata": {},
   "outputs": [
    {
     "name": "stdout",
     "output_type": "stream",
     "text": [
      "<class 'pandas.core.frame.DataFrame'>\n",
      "RangeIndex: 53416 entries, 0 to 53415\n",
      "Data columns (total 11 columns):\n",
      " #   Column        Non-Null Count  Dtype  \n",
      "---  ------        --------------  -----  \n",
      " 0   ID            53416 non-null  object \n",
      " 1   Sex           53416 non-null  object \n",
      " 2   Height        53416 non-null  object \n",
      " 3   Weight        53416 non-null  object \n",
      " 4   Hair          53416 non-null  object \n",
      " 5   Eyes          53416 non-null  object \n",
      " 6   Race          53416 non-null  object \n",
      " 7   Sex Offender  53416 non-null  bool   \n",
      " 8   Offense       53416 non-null  object \n",
      " 9   Height_cm     53416 non-null  float64\n",
      " 10  Weight_kg     53416 non-null  float64\n",
      "dtypes: bool(1), float64(2), object(8)\n",
      "memory usage: 4.1+ MB\n"
     ]
    }
   ],
   "source": [
    "df.info()"
   ]
  },
  {
   "cell_type": "code",
   "execution_count": 126,
   "metadata": {},
   "outputs": [],
   "source": [
    "import os\n",
    "\n",
    "img_filenames = os.listdir('edge_images/front/front')\n",
    "\n",
    "img_filenames = pd.Series(img_filenames).apply(lambda x : str(x).split('.')[0])"
   ]
  },
  {
   "cell_type": "code",
   "execution_count": 127,
   "metadata": {},
   "outputs": [
    {
     "data": {
      "text/plain": [
       "False"
      ]
     },
     "execution_count": 127,
     "metadata": {},
     "output_type": "execute_result"
    }
   ],
   "source": [
    "np.any(~df['ID'].isin(img_filenames))"
   ]
  },
  {
   "cell_type": "code",
   "execution_count": 128,
   "metadata": {},
   "outputs": [],
   "source": [
    "data = df[['ID', 'Weight_kg']]"
   ]
  },
  {
   "cell_type": "code",
   "execution_count": 129,
   "metadata": {},
   "outputs": [
    {
     "name": "stderr",
     "output_type": "stream",
     "text": [
      "/tmp/ipykernel_699907/939288133.py:1: SettingWithCopyWarning: \n",
      "A value is trying to be set on a copy of a slice from a DataFrame.\n",
      "Try using .loc[row_indexer,col_indexer] = value instead\n",
      "\n",
      "See the caveats in the documentation: https://pandas.pydata.org/pandas-docs/stable/user_guide/indexing.html#returning-a-view-versus-a-copy\n",
      "  data['ID'] = 'edge_images/front/front/'+data['ID']+'.jpg'\n"
     ]
    }
   ],
   "source": [
    "data['ID'] = 'edge_images/front/front/'+data['ID']+'.jpg'"
   ]
  },
  {
   "cell_type": "code",
   "execution_count": 130,
   "metadata": {},
   "outputs": [
    {
     "data": {
      "text/plain": [
       "0        edge_images/front/front/A00147.jpg\n",
       "1        edge_images/front/front/A00198.jpg\n",
       "2        edge_images/front/front/A01072.jpg\n",
       "3        edge_images/front/front/A01077.jpg\n",
       "4        edge_images/front/front/A01148.jpg\n",
       "                        ...                \n",
       "53411    edge_images/front/front/Y29993.jpg\n",
       "53412    edge_images/front/front/Y29994.jpg\n",
       "53413    edge_images/front/front/Y29996.jpg\n",
       "53414    edge_images/front/front/Y30000.jpg\n",
       "53415    edge_images/front/front/Y54605.jpg\n",
       "Name: ID, Length: 53416, dtype: object"
      ]
     },
     "execution_count": 130,
     "metadata": {},
     "output_type": "execute_result"
    }
   ],
   "source": [
    "data['ID']"
   ]
  },
  {
   "cell_type": "code",
   "execution_count": 131,
   "metadata": {},
   "outputs": [],
   "source": [
    "train_data = data[:int(0.8*len(data))]\n",
    "val_data = data[int(0.8*len(data)):int(0.9*len(data))]\n",
    "test_data = data[int(0.9*len(data)):]\n",
    "\n",
    "# convert to tuple\n",
    "train_data = (train_data['ID'].values, train_data['Weight_kg'].values)\n",
    "val_data = (val_data['ID'].values, val_data['Weight_kg'].values)\n",
    "test_data = (test_data['ID'].values, test_data['Weight_kg'].values)"
   ]
  },
  {
   "cell_type": "code",
   "execution_count": 132,
   "metadata": {},
   "outputs": [],
   "source": [
    "BATCH_SIZE = 64"
   ]
  },
  {
   "cell_type": "code",
   "execution_count": 135,
   "metadata": {},
   "outputs": [],
   "source": [
    "# read images file by file path\n",
    "def read_imgs(file_paths):\n",
    "    imgs = tf.TensorArray(tf.float32, size=BATCH_SIZE)\n",
    "    i=0\n",
    "    for file_path in file_paths:\n",
    "        img = tf.io.read_file(file_path)\n",
    "        img = tf.image.decode_jpeg(img, channels=3)\n",
    "        img = tf.image.resize(img, (224, 224))\n",
    "        img = preprocess_input(img)\n",
    "        imgs = imgs.write(i, img)\n",
    "        i+=1\n",
    "    return imgs.stack()"
   ]
  },
  {
   "cell_type": "code",
   "execution_count": 136,
   "metadata": {},
   "outputs": [
    {
     "data": {
      "text/plain": [
       "array(['edge_images/front/front/A00147.jpg',\n",
       "       'edge_images/front/front/A00198.jpg',\n",
       "       'edge_images/front/front/A01072.jpg',\n",
       "       'edge_images/front/front/A01077.jpg',\n",
       "       'edge_images/front/front/A01148.jpg'], dtype=object)"
      ]
     },
     "execution_count": 136,
     "metadata": {},
     "output_type": "execute_result"
    }
   ],
   "source": [
    "train_data[0][:5]"
   ]
  },
  {
   "cell_type": "code",
   "execution_count": 137,
   "metadata": {},
   "outputs": [
    {
     "data": {
      "text/plain": [
       "<tf.Tensor: shape=(64, 224, 224, 3), dtype=float32, numpy=\n",
       "array([[[[0.00000000e+00, 0.00000000e+00, 0.00000000e+00],\n",
       "         [0.00000000e+00, 0.00000000e+00, 0.00000000e+00],\n",
       "         [0.00000000e+00, 0.00000000e+00, 0.00000000e+00],\n",
       "         ...,\n",
       "         [0.00000000e+00, 0.00000000e+00, 0.00000000e+00],\n",
       "         [0.00000000e+00, 0.00000000e+00, 0.00000000e+00],\n",
       "         [0.00000000e+00, 0.00000000e+00, 0.00000000e+00]],\n",
       "\n",
       "        [[0.00000000e+00, 0.00000000e+00, 0.00000000e+00],\n",
       "         [0.00000000e+00, 0.00000000e+00, 0.00000000e+00],\n",
       "         [0.00000000e+00, 0.00000000e+00, 0.00000000e+00],\n",
       "         ...,\n",
       "         [0.00000000e+00, 0.00000000e+00, 0.00000000e+00],\n",
       "         [0.00000000e+00, 0.00000000e+00, 0.00000000e+00],\n",
       "         [0.00000000e+00, 0.00000000e+00, 0.00000000e+00]],\n",
       "\n",
       "        [[0.00000000e+00, 0.00000000e+00, 0.00000000e+00],\n",
       "         [0.00000000e+00, 0.00000000e+00, 0.00000000e+00],\n",
       "         [0.00000000e+00, 0.00000000e+00, 0.00000000e+00],\n",
       "         ...,\n",
       "         [0.00000000e+00, 0.00000000e+00, 0.00000000e+00],\n",
       "         [0.00000000e+00, 0.00000000e+00, 0.00000000e+00],\n",
       "         [0.00000000e+00, 0.00000000e+00, 0.00000000e+00]],\n",
       "\n",
       "        ...,\n",
       "\n",
       "        [[3.71122208e+01, 3.71122208e+01, 3.71122208e+01],\n",
       "         [1.00686806e+02, 1.00686806e+02, 1.00686806e+02],\n",
       "         [3.64250183e+01, 3.64250183e+01, 3.64250183e+01],\n",
       "         ...,\n",
       "         [2.43900467e+02, 2.43900467e+02, 2.43900467e+02],\n",
       "         [1.96281265e+02, 1.96281265e+02, 1.96281265e+02],\n",
       "         [1.11538437e+02, 1.11538437e+02, 1.11538437e+02]],\n",
       "\n",
       "        [[1.46195297e+02, 1.46195297e+02, 1.46195297e+02],\n",
       "         [1.76344849e+02, 1.76344849e+02, 1.76344849e+02],\n",
       "         [6.36177063e-02, 6.36177063e-02, 6.36177063e-02],\n",
       "         ...,\n",
       "         [1.20088196e+00, 1.20088196e+00, 1.20088196e+00],\n",
       "         [0.00000000e+00, 0.00000000e+00, 0.00000000e+00],\n",
       "         [0.00000000e+00, 0.00000000e+00, 0.00000000e+00]],\n",
       "\n",
       "        [[1.90963531e+02, 1.90963531e+02, 1.90963531e+02],\n",
       "         [9.69843674e+01, 9.69843674e+01, 9.69843674e+01],\n",
       "         [7.93539047e-01, 7.93539047e-01, 7.93539047e-01],\n",
       "         ...,\n",
       "         [2.77233124e+00, 2.77233124e+00, 2.77233124e+00],\n",
       "         [0.00000000e+00, 0.00000000e+00, 0.00000000e+00],\n",
       "         [1.95318222e-01, 1.95318222e-01, 1.95318222e-01]]],\n",
       "\n",
       "\n",
       "       [[[0.00000000e+00, 0.00000000e+00, 0.00000000e+00],\n",
       "         [0.00000000e+00, 0.00000000e+00, 0.00000000e+00],\n",
       "         [0.00000000e+00, 0.00000000e+00, 0.00000000e+00],\n",
       "         ...,\n",
       "         [0.00000000e+00, 0.00000000e+00, 0.00000000e+00],\n",
       "         [0.00000000e+00, 0.00000000e+00, 0.00000000e+00],\n",
       "         [0.00000000e+00, 0.00000000e+00, 0.00000000e+00]],\n",
       "\n",
       "        [[0.00000000e+00, 0.00000000e+00, 0.00000000e+00],\n",
       "         [0.00000000e+00, 0.00000000e+00, 0.00000000e+00],\n",
       "         [0.00000000e+00, 0.00000000e+00, 0.00000000e+00],\n",
       "         ...,\n",
       "         [0.00000000e+00, 0.00000000e+00, 0.00000000e+00],\n",
       "         [0.00000000e+00, 0.00000000e+00, 0.00000000e+00],\n",
       "         [0.00000000e+00, 0.00000000e+00, 0.00000000e+00]],\n",
       "\n",
       "        [[0.00000000e+00, 0.00000000e+00, 0.00000000e+00],\n",
       "         [0.00000000e+00, 0.00000000e+00, 0.00000000e+00],\n",
       "         [0.00000000e+00, 0.00000000e+00, 0.00000000e+00],\n",
       "         ...,\n",
       "         [0.00000000e+00, 0.00000000e+00, 0.00000000e+00],\n",
       "         [0.00000000e+00, 0.00000000e+00, 0.00000000e+00],\n",
       "         [0.00000000e+00, 0.00000000e+00, 0.00000000e+00]],\n",
       "\n",
       "        ...,\n",
       "\n",
       "        [[1.43437500e+02, 1.43437500e+02, 1.43437500e+02],\n",
       "         [1.35813965e+02, 1.35813965e+02, 1.35813965e+02],\n",
       "         [2.16879669e+02, 2.16879669e+02, 2.16879669e+02],\n",
       "         ...,\n",
       "         [7.54463196e-01, 7.54463196e-01, 7.54463196e-01],\n",
       "         [0.00000000e+00, 0.00000000e+00, 0.00000000e+00],\n",
       "         [0.00000000e+00, 0.00000000e+00, 0.00000000e+00]],\n",
       "\n",
       "        [[1.32622498e+02, 1.32622498e+02, 1.32622498e+02],\n",
       "         [4.66529846e-01, 4.66529846e-01, 4.66529846e-01],\n",
       "         [4.75613823e+01, 4.75613823e+01, 4.75613823e+01],\n",
       "         ...,\n",
       "         [2.85494232e+00, 2.85494232e+00, 2.85494232e+00],\n",
       "         [0.00000000e+00, 0.00000000e+00, 0.00000000e+00],\n",
       "         [0.00000000e+00, 0.00000000e+00, 0.00000000e+00]],\n",
       "\n",
       "        [[6.48479233e+01, 6.48479233e+01, 6.48479233e+01],\n",
       "         [1.22771454e+00, 1.22771454e+00, 1.22771454e+00],\n",
       "         [4.74129677e+01, 4.74129677e+01, 4.74129677e+01],\n",
       "         ...,\n",
       "         [1.30805206e+00, 1.30805206e+00, 1.30805206e+00],\n",
       "         [0.00000000e+00, 0.00000000e+00, 0.00000000e+00],\n",
       "         [0.00000000e+00, 0.00000000e+00, 0.00000000e+00]]],\n",
       "\n",
       "\n",
       "       [[[0.00000000e+00, 0.00000000e+00, 0.00000000e+00],\n",
       "         [0.00000000e+00, 0.00000000e+00, 0.00000000e+00],\n",
       "         [0.00000000e+00, 0.00000000e+00, 0.00000000e+00],\n",
       "         ...,\n",
       "         [0.00000000e+00, 0.00000000e+00, 0.00000000e+00],\n",
       "         [0.00000000e+00, 0.00000000e+00, 0.00000000e+00],\n",
       "         [0.00000000e+00, 0.00000000e+00, 0.00000000e+00]],\n",
       "\n",
       "        [[0.00000000e+00, 0.00000000e+00, 0.00000000e+00],\n",
       "         [0.00000000e+00, 0.00000000e+00, 0.00000000e+00],\n",
       "         [0.00000000e+00, 0.00000000e+00, 0.00000000e+00],\n",
       "         ...,\n",
       "         [0.00000000e+00, 0.00000000e+00, 0.00000000e+00],\n",
       "         [0.00000000e+00, 0.00000000e+00, 0.00000000e+00],\n",
       "         [0.00000000e+00, 0.00000000e+00, 0.00000000e+00]],\n",
       "\n",
       "        [[0.00000000e+00, 0.00000000e+00, 0.00000000e+00],\n",
       "         [0.00000000e+00, 0.00000000e+00, 0.00000000e+00],\n",
       "         [0.00000000e+00, 0.00000000e+00, 0.00000000e+00],\n",
       "         ...,\n",
       "         [0.00000000e+00, 0.00000000e+00, 0.00000000e+00],\n",
       "         [0.00000000e+00, 0.00000000e+00, 0.00000000e+00],\n",
       "         [0.00000000e+00, 0.00000000e+00, 0.00000000e+00]],\n",
       "\n",
       "        ...,\n",
       "\n",
       "        [[0.00000000e+00, 0.00000000e+00, 0.00000000e+00],\n",
       "         [0.00000000e+00, 0.00000000e+00, 0.00000000e+00],\n",
       "         [0.00000000e+00, 0.00000000e+00, 0.00000000e+00],\n",
       "         ...,\n",
       "         [0.00000000e+00, 0.00000000e+00, 0.00000000e+00],\n",
       "         [0.00000000e+00, 0.00000000e+00, 0.00000000e+00],\n",
       "         [0.00000000e+00, 0.00000000e+00, 0.00000000e+00]],\n",
       "\n",
       "        [[0.00000000e+00, 0.00000000e+00, 0.00000000e+00],\n",
       "         [0.00000000e+00, 0.00000000e+00, 0.00000000e+00],\n",
       "         [0.00000000e+00, 0.00000000e+00, 0.00000000e+00],\n",
       "         ...,\n",
       "         [0.00000000e+00, 0.00000000e+00, 0.00000000e+00],\n",
       "         [0.00000000e+00, 0.00000000e+00, 0.00000000e+00],\n",
       "         [0.00000000e+00, 0.00000000e+00, 0.00000000e+00]],\n",
       "\n",
       "        [[0.00000000e+00, 0.00000000e+00, 0.00000000e+00],\n",
       "         [0.00000000e+00, 0.00000000e+00, 0.00000000e+00],\n",
       "         [0.00000000e+00, 0.00000000e+00, 0.00000000e+00],\n",
       "         ...,\n",
       "         [0.00000000e+00, 0.00000000e+00, 0.00000000e+00],\n",
       "         [0.00000000e+00, 0.00000000e+00, 0.00000000e+00],\n",
       "         [0.00000000e+00, 0.00000000e+00, 0.00000000e+00]]],\n",
       "\n",
       "\n",
       "       ...,\n",
       "\n",
       "\n",
       "       [[[0.00000000e+00, 0.00000000e+00, 0.00000000e+00],\n",
       "         [0.00000000e+00, 0.00000000e+00, 0.00000000e+00],\n",
       "         [0.00000000e+00, 0.00000000e+00, 0.00000000e+00],\n",
       "         ...,\n",
       "         [0.00000000e+00, 0.00000000e+00, 0.00000000e+00],\n",
       "         [0.00000000e+00, 0.00000000e+00, 0.00000000e+00],\n",
       "         [0.00000000e+00, 0.00000000e+00, 0.00000000e+00]],\n",
       "\n",
       "        [[0.00000000e+00, 0.00000000e+00, 0.00000000e+00],\n",
       "         [0.00000000e+00, 0.00000000e+00, 0.00000000e+00],\n",
       "         [0.00000000e+00, 0.00000000e+00, 0.00000000e+00],\n",
       "         ...,\n",
       "         [0.00000000e+00, 0.00000000e+00, 0.00000000e+00],\n",
       "         [0.00000000e+00, 0.00000000e+00, 0.00000000e+00],\n",
       "         [0.00000000e+00, 0.00000000e+00, 0.00000000e+00]],\n",
       "\n",
       "        [[0.00000000e+00, 0.00000000e+00, 0.00000000e+00],\n",
       "         [0.00000000e+00, 0.00000000e+00, 0.00000000e+00],\n",
       "         [0.00000000e+00, 0.00000000e+00, 0.00000000e+00],\n",
       "         ...,\n",
       "         [0.00000000e+00, 0.00000000e+00, 0.00000000e+00],\n",
       "         [0.00000000e+00, 0.00000000e+00, 0.00000000e+00],\n",
       "         [0.00000000e+00, 0.00000000e+00, 0.00000000e+00]],\n",
       "\n",
       "        ...,\n",
       "\n",
       "        [[0.00000000e+00, 0.00000000e+00, 0.00000000e+00],\n",
       "         [0.00000000e+00, 0.00000000e+00, 0.00000000e+00],\n",
       "         [0.00000000e+00, 0.00000000e+00, 0.00000000e+00],\n",
       "         ...,\n",
       "         [0.00000000e+00, 0.00000000e+00, 0.00000000e+00],\n",
       "         [0.00000000e+00, 0.00000000e+00, 0.00000000e+00],\n",
       "         [0.00000000e+00, 0.00000000e+00, 0.00000000e+00]],\n",
       "\n",
       "        [[0.00000000e+00, 0.00000000e+00, 0.00000000e+00],\n",
       "         [0.00000000e+00, 0.00000000e+00, 0.00000000e+00],\n",
       "         [0.00000000e+00, 0.00000000e+00, 0.00000000e+00],\n",
       "         ...,\n",
       "         [0.00000000e+00, 0.00000000e+00, 0.00000000e+00],\n",
       "         [0.00000000e+00, 0.00000000e+00, 0.00000000e+00],\n",
       "         [0.00000000e+00, 0.00000000e+00, 0.00000000e+00]],\n",
       "\n",
       "        [[0.00000000e+00, 0.00000000e+00, 0.00000000e+00],\n",
       "         [0.00000000e+00, 0.00000000e+00, 0.00000000e+00],\n",
       "         [0.00000000e+00, 0.00000000e+00, 0.00000000e+00],\n",
       "         ...,\n",
       "         [0.00000000e+00, 0.00000000e+00, 0.00000000e+00],\n",
       "         [0.00000000e+00, 0.00000000e+00, 0.00000000e+00],\n",
       "         [0.00000000e+00, 0.00000000e+00, 0.00000000e+00]]],\n",
       "\n",
       "\n",
       "       [[[0.00000000e+00, 0.00000000e+00, 0.00000000e+00],\n",
       "         [0.00000000e+00, 0.00000000e+00, 0.00000000e+00],\n",
       "         [0.00000000e+00, 0.00000000e+00, 0.00000000e+00],\n",
       "         ...,\n",
       "         [0.00000000e+00, 0.00000000e+00, 0.00000000e+00],\n",
       "         [0.00000000e+00, 0.00000000e+00, 0.00000000e+00],\n",
       "         [0.00000000e+00, 0.00000000e+00, 0.00000000e+00]],\n",
       "\n",
       "        [[0.00000000e+00, 0.00000000e+00, 0.00000000e+00],\n",
       "         [0.00000000e+00, 0.00000000e+00, 0.00000000e+00],\n",
       "         [0.00000000e+00, 0.00000000e+00, 0.00000000e+00],\n",
       "         ...,\n",
       "         [0.00000000e+00, 0.00000000e+00, 0.00000000e+00],\n",
       "         [0.00000000e+00, 0.00000000e+00, 0.00000000e+00],\n",
       "         [0.00000000e+00, 0.00000000e+00, 0.00000000e+00]],\n",
       "\n",
       "        [[0.00000000e+00, 0.00000000e+00, 0.00000000e+00],\n",
       "         [0.00000000e+00, 0.00000000e+00, 0.00000000e+00],\n",
       "         [0.00000000e+00, 0.00000000e+00, 0.00000000e+00],\n",
       "         ...,\n",
       "         [0.00000000e+00, 0.00000000e+00, 0.00000000e+00],\n",
       "         [0.00000000e+00, 0.00000000e+00, 0.00000000e+00],\n",
       "         [0.00000000e+00, 0.00000000e+00, 0.00000000e+00]],\n",
       "\n",
       "        ...,\n",
       "\n",
       "        [[0.00000000e+00, 0.00000000e+00, 0.00000000e+00],\n",
       "         [0.00000000e+00, 0.00000000e+00, 0.00000000e+00],\n",
       "         [0.00000000e+00, 0.00000000e+00, 0.00000000e+00],\n",
       "         ...,\n",
       "         [0.00000000e+00, 0.00000000e+00, 0.00000000e+00],\n",
       "         [0.00000000e+00, 0.00000000e+00, 0.00000000e+00],\n",
       "         [0.00000000e+00, 0.00000000e+00, 0.00000000e+00]],\n",
       "\n",
       "        [[0.00000000e+00, 0.00000000e+00, 0.00000000e+00],\n",
       "         [0.00000000e+00, 0.00000000e+00, 0.00000000e+00],\n",
       "         [0.00000000e+00, 0.00000000e+00, 0.00000000e+00],\n",
       "         ...,\n",
       "         [0.00000000e+00, 0.00000000e+00, 0.00000000e+00],\n",
       "         [0.00000000e+00, 0.00000000e+00, 0.00000000e+00],\n",
       "         [0.00000000e+00, 0.00000000e+00, 0.00000000e+00]],\n",
       "\n",
       "        [[0.00000000e+00, 0.00000000e+00, 0.00000000e+00],\n",
       "         [0.00000000e+00, 0.00000000e+00, 0.00000000e+00],\n",
       "         [0.00000000e+00, 0.00000000e+00, 0.00000000e+00],\n",
       "         ...,\n",
       "         [0.00000000e+00, 0.00000000e+00, 0.00000000e+00],\n",
       "         [0.00000000e+00, 0.00000000e+00, 0.00000000e+00],\n",
       "         [0.00000000e+00, 0.00000000e+00, 0.00000000e+00]]],\n",
       "\n",
       "\n",
       "       [[[0.00000000e+00, 0.00000000e+00, 0.00000000e+00],\n",
       "         [0.00000000e+00, 0.00000000e+00, 0.00000000e+00],\n",
       "         [0.00000000e+00, 0.00000000e+00, 0.00000000e+00],\n",
       "         ...,\n",
       "         [0.00000000e+00, 0.00000000e+00, 0.00000000e+00],\n",
       "         [0.00000000e+00, 0.00000000e+00, 0.00000000e+00],\n",
       "         [0.00000000e+00, 0.00000000e+00, 0.00000000e+00]],\n",
       "\n",
       "        [[0.00000000e+00, 0.00000000e+00, 0.00000000e+00],\n",
       "         [0.00000000e+00, 0.00000000e+00, 0.00000000e+00],\n",
       "         [0.00000000e+00, 0.00000000e+00, 0.00000000e+00],\n",
       "         ...,\n",
       "         [0.00000000e+00, 0.00000000e+00, 0.00000000e+00],\n",
       "         [0.00000000e+00, 0.00000000e+00, 0.00000000e+00],\n",
       "         [0.00000000e+00, 0.00000000e+00, 0.00000000e+00]],\n",
       "\n",
       "        [[0.00000000e+00, 0.00000000e+00, 0.00000000e+00],\n",
       "         [0.00000000e+00, 0.00000000e+00, 0.00000000e+00],\n",
       "         [0.00000000e+00, 0.00000000e+00, 0.00000000e+00],\n",
       "         ...,\n",
       "         [0.00000000e+00, 0.00000000e+00, 0.00000000e+00],\n",
       "         [0.00000000e+00, 0.00000000e+00, 0.00000000e+00],\n",
       "         [0.00000000e+00, 0.00000000e+00, 0.00000000e+00]],\n",
       "\n",
       "        ...,\n",
       "\n",
       "        [[0.00000000e+00, 0.00000000e+00, 0.00000000e+00],\n",
       "         [0.00000000e+00, 0.00000000e+00, 0.00000000e+00],\n",
       "         [0.00000000e+00, 0.00000000e+00, 0.00000000e+00],\n",
       "         ...,\n",
       "         [0.00000000e+00, 0.00000000e+00, 0.00000000e+00],\n",
       "         [0.00000000e+00, 0.00000000e+00, 0.00000000e+00],\n",
       "         [0.00000000e+00, 0.00000000e+00, 0.00000000e+00]],\n",
       "\n",
       "        [[0.00000000e+00, 0.00000000e+00, 0.00000000e+00],\n",
       "         [0.00000000e+00, 0.00000000e+00, 0.00000000e+00],\n",
       "         [0.00000000e+00, 0.00000000e+00, 0.00000000e+00],\n",
       "         ...,\n",
       "         [0.00000000e+00, 0.00000000e+00, 0.00000000e+00],\n",
       "         [0.00000000e+00, 0.00000000e+00, 0.00000000e+00],\n",
       "         [0.00000000e+00, 0.00000000e+00, 0.00000000e+00]],\n",
       "\n",
       "        [[0.00000000e+00, 0.00000000e+00, 0.00000000e+00],\n",
       "         [0.00000000e+00, 0.00000000e+00, 0.00000000e+00],\n",
       "         [0.00000000e+00, 0.00000000e+00, 0.00000000e+00],\n",
       "         ...,\n",
       "         [0.00000000e+00, 0.00000000e+00, 0.00000000e+00],\n",
       "         [0.00000000e+00, 0.00000000e+00, 0.00000000e+00],\n",
       "         [0.00000000e+00, 0.00000000e+00, 0.00000000e+00]]]],\n",
       "      dtype=float32)>"
      ]
     },
     "execution_count": 137,
     "metadata": {},
     "output_type": "execute_result"
    }
   ],
   "source": [
    "read_imgs(train_data[0][:5])"
   ]
  },
  {
   "cell_type": "code",
   "execution_count": 141,
   "metadata": {},
   "outputs": [
    {
     "data": {
      "text/plain": [
       "<matplotlib.image.AxesImage at 0x7f97eee4f7c0>"
      ]
     },
     "execution_count": 141,
     "metadata": {},
     "output_type": "execute_result"
    },
    {
     "data": {
      "image/png": "[encoded data removed]",
      "text/plain": [
       "<Figure size 640x480 with 1 Axes>"
      ]
     },
     "metadata": {},
     "output_type": "display_data"
    }
   ],
   "source": [
    "plt.imshow(tf.cast(read_imgs(train_data[0][:5])[3], tf.int32))"
   ]
  },
  {
   "cell_type": "code",
   "execution_count": 105,
   "metadata": {},
   "outputs": [],
   "source": [
    "# run eagerly\n",
    "# tf.config.run_functions_eagerly(True)\n",
    "train_set = tf.data.Dataset.from_tensor_slices(train_data).shuffle(10000).batch(BATCH_SIZE, drop_remainder=True).map(lambda x, y: (read_imgs(x), y)).prefetch(1)\n",
    "val_set = tf.data.Dataset.from_tensor_slices(val_data).shuffle(10000).batch(BATCH_SIZE, drop_remainder=True).map(lambda x, y: (read_imgs(x), y)).prefetch(1)\n",
    "test_set = tf.data.Dataset.from_tensor_slices(test_data).shuffle(10000).batch(BATCH_SIZE, drop_remainder=True).map(lambda x, y: (read_imgs(x), y)).prefetch(1)"
   ]
  },
  {
   "cell_type": "code",
   "execution_count": 107,
   "metadata": {},
   "outputs": [],
   "source": [
    "# Data augmentation layers\n",
    "data_augmentation_front = tf.keras.Sequential([\n",
    "    tf.keras.layers.RandomFlip(\"horizontal\"),\n",
    "    tf.keras.layers.RandomBrightness(factor = (-0.15, 0.1)),  # adjust according to your needs\n",
    "    tf.keras.layers.RandomZoom(height_factor=(-0.1, 0.05)),        # adjust according to your needs\n",
    "])\n",
    "data_augmentation_side = tf.keras.Sequential([\n",
    "    tf.keras.layers.RandomBrightness(factor = (-0.25, 0.1)),  # adjust according to your needs\n",
    "    tf.keras.layers.RandomContrast(0.5),    # adjust according to your needs\n",
    "    tf.keras.layers.RandomZoom(height_factor=(-0.2, 0.1)),        # adjust according to your needs\n",
    "])"
   ]
  },
  {
   "cell_type": "code",
   "execution_count": 108,
   "metadata": {},
   "outputs": [],
   "source": [
    "# create model\n",
    "base_model = EfficientNetB0(include_top=False, weights='imagenet', input_shape=(224, 224, 3))\n",
    "\n",
    "model = tf.keras.Sequential([\n",
    "    data_augmentation_front, \n",
    "    base_model,\n",
    "    tf.keras.layers.GlobalAveragePooling2D(),\n",
    "    tf.keras.layers.Dense(1)\n",
    "])"
   ]
  },
  {
   "cell_type": "code",
   "execution_count": 82,
   "metadata": {},
   "outputs": [
    {
     "name": "stdout",
     "output_type": "stream",
     "text": [
      "0 input_1\n",
      "1 rescaling\n",
      "2 normalization\n",
      "3 rescaling_1\n",
      "4 stem_conv_pad\n",
      "5 stem_conv\n",
      "6 stem_bn\n",
      "7 stem_activation\n",
      "8 block1a_dwconv\n",
      "9 block1a_bn\n",
      "10 block1a_activation\n",
      "11 block1a_se_squeeze\n",
      "12 block1a_se_reshape\n",
      "13 block1a_se_reduce\n",
      "14 block1a_se_expand\n",
      "15 block1a_se_excite\n",
      "16 block1a_project_conv\n",
      "17 block1a_project_bn\n",
      "18 block2a_expand_conv\n",
      "19 block2a_expand_bn\n"
     ]
    }
   ],
   "source": [
    "for i, layer in enumerate(base_model.layers[:20]):\n",
    "    print(i, layer.name)"
   ]
  },
  {
   "cell_type": "code",
   "execution_count": 93,
   "metadata": {},
   "outputs": [
    {
     "name": "stdout",
     "output_type": "stream",
     "text": [
      "Model: \"sequential_1\"\n",
      "_________________________________________________________________\n",
      " Layer (type)                Output Shape              Param #   \n",
      "=================================================================\n",
      " efficientnetb0 (Functional)  (None, 7, 7, 1280)       4049571   \n",
      "                                                                 \n",
      " global_average_pooling2d_1   (None, 1280)             0         \n",
      " (GlobalAveragePooling2D)                                        \n",
      "                                                                 \n",
      " dense_1 (Dense)             (None, 1)                 1281      \n",
      "                                                                 \n",
      "=================================================================\n",
      "Total params: 4,050,852\n",
      "Trainable params: 4,006,997\n",
      "Non-trainable params: 43,855\n",
      "_________________________________________________________________\n"
     ]
    }
   ],
   "source": [
    "for layer in base_model.layers[:16]:\n",
    "    layer.trainable = False\n",
    "\n",
    "model.build(input_shape=(None, 224,224,3))\n",
    "model.compile(optimizer='adam', loss='mean_squared_error', metrics=['mae'])\n",
    "K.set_value(model.optimizer.learning_rate, 0.01*model.optimizer.learning_rate)\n",
    "model.summary()"
   ]
  },
  {
   "cell_type": "code",
   "execution_count": 94,
   "metadata": {},
   "outputs": [],
   "source": [
    "early_stopping = tf.keras.callbacks.EarlyStopping(patience=5, restore_best_weights=True)"
   ]
  },
  {
   "cell_type": "code",
   "execution_count": 95,
   "metadata": {},
   "outputs": [
    {
     "name": "stdout",
     "output_type": "stream",
     "text": [
      "Epoch 1/100\n",
      "667/667 [==============================] - 181s 262ms/step - loss: 6453.8164 - mae: 78.3514 - val_loss: 4671.0005 - val_mae: 66.2663\n",
      "Epoch 2/100\n",
      "667/667 [==============================] - 176s 264ms/step - loss: 5049.4043 - mae: 69.1052 - val_loss: 4231.9512 - val_mae: 62.9667\n",
      "Epoch 3/100\n",
      "667/667 [==============================] - 175s 262ms/step - loss: 4480.3711 - mae: 64.9423 - val_loss: 3677.8096 - val_mae: 58.4518\n",
      "Epoch 4/100\n",
      "667/667 [==============================] - 176s 263ms/step - loss: 4022.4812 - mae: 61.3709 - val_loss: 3374.8196 - val_mae: 55.8297\n",
      "Epoch 5/100\n",
      "667/667 [==============================] - 174s 261ms/step - loss: 3619.1296 - mae: 58.0486 - val_loss: 2960.3628 - val_mae: 52.0500\n",
      "Epoch 6/100\n",
      "667/667 [==============================] - 176s 263ms/step - loss: 3253.3276 - mae: 54.8654 - val_loss: 2668.0962 - val_mae: 49.2268\n",
      "Epoch 7/100\n",
      "667/667 [==============================] - 175s 262ms/step - loss: 2917.3965 - mae: 51.7635 - val_loss: 2383.9758 - val_mae: 46.2896\n",
      "Epoch 8/100\n",
      "667/667 [==============================] - 176s 264ms/step - loss: 2602.6829 - mae: 48.6884 - val_loss: 2178.7141 - val_mae: 44.0643\n",
      "Epoch 9/100\n",
      "667/667 [==============================] - 175s 263ms/step - loss: 2307.6699 - mae: 45.6167 - val_loss: 1879.5823 - val_mae: 40.5881\n",
      "Epoch 10/100\n",
      "667/667 [==============================] - 176s 264ms/step - loss: 2030.9927 - mae: 42.5359 - val_loss: 1639.6659 - val_mae: 37.6015\n",
      "Epoch 11/100\n",
      "667/667 [==============================] - 177s 265ms/step - loss: 1772.8542 - mae: 39.4426 - val_loss: 1436.9126 - val_mae: 34.8153\n",
      "Epoch 12/100\n",
      "667/667 [==============================] - 180s 270ms/step - loss: 1532.1287 - mae: 36.3401 - val_loss: 1178.2440 - val_mae: 30.9761\n",
      "Epoch 13/100\n",
      "667/667 [==============================] - 177s 265ms/step - loss: 1313.3605 - mae: 33.2655 - val_loss: 1027.3224 - val_mae: 28.4498\n",
      "Epoch 14/100\n",
      "667/667 [==============================] - 176s 264ms/step - loss: 1115.1910 - mae: 30.2257 - val_loss: 947.5365 - val_mae: 27.0857\n",
      "Epoch 15/100\n",
      "667/667 [==============================] - 180s 269ms/step - loss: 937.2255 - mae: 27.2366 - val_loss: 746.7328 - val_mae: 23.2963\n",
      "Epoch 16/100\n",
      "667/667 [==============================] - 177s 265ms/step - loss: 779.5814 - mae: 24.3253 - val_loss: 568.1173 - val_mae: 19.4619\n",
      "Epoch 17/100\n",
      "667/667 [==============================] - 176s 264ms/step - loss: 641.9886 - mae: 21.5258 - val_loss: 424.5256 - val_mae: 16.0945\n",
      "Epoch 18/100\n",
      "667/667 [==============================] - 176s 264ms/step - loss: 523.8561 - mae: 18.9188 - val_loss: 464.6126 - val_mae: 17.0631\n",
      "Epoch 19/100\n",
      "667/667 [==============================] - 177s 265ms/step - loss: 425.3952 - mae: 16.5687 - val_loss: 336.2605 - val_mae: 13.8280\n",
      "Epoch 20/100\n",
      "667/667 [==============================] - 175s 262ms/step - loss: 343.4432 - mae: 14.5357 - val_loss: 309.8380 - val_mae: 13.1158\n",
      "Epoch 21/100\n",
      "667/667 [==============================] - 176s 264ms/step - loss: 281.3760 - mae: 12.8707 - val_loss: 238.4603 - val_mae: 11.3977\n",
      "Epoch 22/100\n",
      "667/667 [==============================] - 175s 263ms/step - loss: 235.3271 - mae: 11.6405 - val_loss: 238.3372 - val_mae: 11.3522\n",
      "Epoch 23/100\n",
      "667/667 [==============================] - 178s 266ms/step - loss: 202.9423 - mae: 10.7612 - val_loss: 218.7457 - val_mae: 11.0625\n",
      "Epoch 24/100\n",
      "667/667 [==============================] - 178s 267ms/step - loss: 182.9054 - mae: 10.2601 - val_loss: 220.4302 - val_mae: 11.0325\n",
      "Epoch 25/100\n",
      "667/667 [==============================] - 175s 263ms/step - loss: 170.2722 - mae: 9.9945 - val_loss: 213.9757 - val_mae: 11.0248\n",
      "Epoch 26/100\n",
      "667/667 [==============================] - 180s 270ms/step - loss: 164.4129 - mae: 9.8553 - val_loss: 218.7480 - val_mae: 11.3208\n",
      "Epoch 27/100\n",
      "667/667 [==============================] - 176s 264ms/step - loss: 160.5052 - mae: 9.8182 - val_loss: 221.5161 - val_mae: 11.4702\n",
      "Epoch 28/100\n",
      "667/667 [==============================] - 174s 260ms/step - loss: 157.3601 - mae: 9.7237 - val_loss: 215.8762 - val_mae: 11.1574\n",
      "Epoch 29/100\n",
      "667/667 [==============================] - 175s 261ms/step - loss: 155.7202 - mae: 9.6899 - val_loss: 219.5730 - val_mae: 11.2937\n",
      "Epoch 30/100\n",
      "667/667 [==============================] - 178s 266ms/step - loss: 154.6181 - mae: 9.6664 - val_loss: 243.3846 - val_mae: 12.1207\n"
     ]
    },
    {
     "data": {
      "text/plain": [
       "<keras.callbacks.History at 0x7f9b501bea30>"
      ]
     },
     "execution_count": 95,
     "metadata": {},
     "output_type": "execute_result"
    }
   ],
   "source": [
    "model.fit(train_set, validation_data=val_set, epochs=100, callbacks = [early_stopping])"
   ]
  },
  {
   "cell_type": "code",
   "execution_count": 96,
   "metadata": {},
   "outputs": [],
   "source": [
    "model.save_weights('models/frontweight_edge_img1')"
   ]
  },
  {
   "cell_type": "code",
   "execution_count": 110,
   "metadata": {},
   "outputs": [],
   "source": [
    "tf.get_logger().setLevel('ERROR')"
   ]
  },
  {
   "cell_type": "code",
   "execution_count": 111,
   "metadata": {},
   "outputs": [
    {
     "name": "stdout",
     "output_type": "stream",
     "text": [
      "Model: \"sequential_6\"\n",
      "_________________________________________________________________\n",
      " Layer (type)                Output Shape              Param #   \n",
      "=================================================================\n",
      " sequential_4 (Sequential)   (None, 224, 224, 3)       0         \n",
      "                                                                 \n",
      " efficientnetb0 (Functional)  (None, 7, 7, 1280)       4049571   \n",
      "                                                                 \n",
      " global_average_pooling2d_2   (None, 1280)             0         \n",
      " (GlobalAveragePooling2D)                                        \n",
      "                                                                 \n",
      " dense_2 (Dense)             (None, 1)                 1281      \n",
      "                                                                 \n",
      "=================================================================\n",
      "Total params: 4,050,852\n",
      "Trainable params: 4,008,829\n",
      "Non-trainable params: 42,023\n",
      "_________________________________________________________________\n",
      "Epoch 1/100\n",
      "667/667 [==============================] - 433s 636ms/step - loss: 190.7378 - mae: 10.6011 - val_loss: 218.0612 - val_mae: 11.1618\n",
      "Epoch 2/100\n",
      "667/667 [==============================] - 426s 639ms/step - loss: 188.6295 - mae: 10.5677 - val_loss: 215.9782 - val_mae: 11.0387\n",
      "Epoch 3/100\n",
      "667/667 [==============================] - 425s 637ms/step - loss: 186.2169 - mae: 10.5270 - val_loss: 217.3744 - val_mae: 11.2802\n",
      "Epoch 4/100\n",
      "667/667 [==============================] - 424s 636ms/step - loss: 184.6148 - mae: 10.4700 - val_loss: 214.0427 - val_mae: 11.0235\n",
      "Epoch 5/100\n",
      "667/667 [==============================] - 426s 639ms/step - loss: 182.2479 - mae: 10.3988 - val_loss: 219.9231 - val_mae: 11.4192\n",
      "Epoch 6/100\n",
      "667/667 [==============================] - 430s 645ms/step - loss: 180.3114 - mae: 10.3634 - val_loss: 215.6257 - val_mae: 11.1875\n",
      "Epoch 7/100\n",
      "667/667 [==============================] - 433s 649ms/step - loss: 180.1616 - mae: 10.3484 - val_loss: 214.5794 - val_mae: 11.1928\n",
      "Epoch 8/100\n",
      "667/667 [==============================] - 431s 646ms/step - loss: 178.4166 - mae: 10.3056 - val_loss: 214.9379 - val_mae: 11.2055\n",
      "Epoch 9/100\n",
      "667/667 [==============================] - 435s 653ms/step - loss: 175.7420 - mae: 10.2178 - val_loss: 214.6049 - val_mae: 11.0152\n"
     ]
    }
   ],
   "source": [
    "model.load_weights('models/frontweight_edge_img2')\n",
    "\n",
    "base_model.trainable = True\n",
    "\n",
    "model.build(input_shape=(None, 224,224,3))\n",
    "model.compile(optimizer='adam', loss='mean_squared_error', metrics=['mae'])\n",
    "K.set_value(model.optimizer.learning_rate, 0.01*model.optimizer.learning_rate)\n",
    "model.summary()\n",
    "model.fit(train_set, validation_data=val_set, epochs=100, callbacks = [early_stopping])\n"
   ]
  },
  {
   "cell_type": "code",
   "execution_count": 112,
   "metadata": {},
   "outputs": [],
   "source": [
    "model.save_weights('models/frontweight_edge_img3.h5')"
   ]
  },
  {
   "cell_type": "code",
   "execution_count": 113,
   "metadata": {},
   "outputs": [
    {
     "name": "stdout",
     "output_type": "stream",
     "text": [
      "83/83 [==============================] - 6s 74ms/step - loss: 215.0188 - mae: 10.9637\n"
     ]
    },
    {
     "data": {
      "text/plain": [
       "[215.0187530517578, 10.963668823242188]"
      ]
     },
     "execution_count": 113,
     "metadata": {},
     "output_type": "execute_result"
    }
   ],
   "source": [
    "model.evaluate(test_set)"
   ]
  },
  {
   "cell_type": "code",
   "execution_count": null,
   "metadata": {},
   "outputs": [],
   "source": []
  }
 ],
 "metadata": {
  "kernelspec": {
   "display_name": "Python 3 (ipykernel)",
   "language": "python",
   "name": "python3"
  },
  "language_info": {
   "codemirror_mode": {
    "name": "ipython",
    "version": 3
   },
   "file_extension": ".py",
   "mimetype": "text/x-python",
   "name": "python",
   "nbconvert_exporter": "python",
   "pygments_lexer": "ipython3",
   "version": "3.9.-1"
  }
 },
 "nbformat": 4,
 "nbformat_minor": 2
}
