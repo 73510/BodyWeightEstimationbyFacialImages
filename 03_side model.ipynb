{
 "cells": [
  {
   "cell_type": "code",
   "execution_count": 1,
   "metadata": {},
   "outputs": [],
   "source": [
    "import numpy as np\n",
    "import matplotlib.pyplot as plt\n",
    "import pandas as pd\n",
    "import seaborn as sns"
   ]
  },
  {
   "cell_type": "code",
   "execution_count": 2,
   "metadata": {},
   "outputs": [],
   "source": [
    "import os\n",
    "os.environ[\"CUDA_VISIBLE_DEVICES\"] = \"1\"\n",
    "os.environ[\"TF_CPP_MIN_LOG_LEVEL\"] = \"1\""
   ]
  },
  {
   "cell_type": "code",
   "execution_count": 3,
   "metadata": {},
   "outputs": [
    {
     "name": "stderr",
     "output_type": "stream",
     "text": [
      "2024-06-08 13:52:55.150245: E tensorflow/stream_executor/cuda/cuda_blas.cc:2981] Unable to register cuBLAS factory: Attempting to register factory for plugin cuBLAS when one has already been registered\n",
      "2024-06-08 13:52:55.871823: W tensorflow/stream_executor/platform/default/dso_loader.cc:64] Could not load dynamic library 'libnvinfer.so.7'; dlerror: libnvinfer.so.7: cannot open shared object file: No such file or directory; LD_LIBRARY_PATH: :/home/yw/miniconda3/envs/tf/lib/\n",
      "2024-06-08 13:52:55.871963: W tensorflow/stream_executor/platform/default/dso_loader.cc:64] Could not load dynamic library 'libnvinfer_plugin.so.7'; dlerror: libnvinfer_plugin.so.7: cannot open shared object file: No such file or directory; LD_LIBRARY_PATH: :/home/yw/miniconda3/envs/tf/lib/\n",
      "2024-06-08 13:52:55.871971: W tensorflow/compiler/tf2tensorrt/utils/py_utils.cc:38] TF-TRT Warning: Cannot dlopen some TensorRT libraries. If you would like to use Nvidia GPU with TensorRT, please make sure the missing libraries mentioned above are installed properly.\n"
     ]
    }
   ],
   "source": [
    "import tensorflow as tf"
   ]
  },
  {
   "cell_type": "code",
   "execution_count": 4,
   "metadata": {},
   "outputs": [],
   "source": [
    "import tensorflow.keras.backend as K"
   ]
  },
  {
   "cell_type": "code",
   "execution_count": 5,
   "metadata": {},
   "outputs": [],
   "source": [
    "from tensorflow.keras.applications import EfficientNetB0\n",
    "from tensorflow.keras.applications.efficientnet import preprocess_input\n",
    "import matplotlib.pyplot as plt"
   ]
  },
  {
   "cell_type": "code",
   "execution_count": 131,
   "metadata": {},
   "outputs": [],
   "source": [
    "import smtplib\n",
    "from email.mime.text import MIMEText\n",
    "from email.mime.multipart import MIMEMultipart\n",
    "\n",
    "def send_email_outlook(subject, body, to_email, from_email, password):\n",
    "    # Set up the email server\n",
    "    server = smtplib.SMTP('smtp-mail.outlook.com', 587)\n",
    "    server.starttls()  # Use TLS\n",
    "    server.login(from_email, password)\n",
    "\n",
    "    # Create the email\n",
    "    msg = MIMEMultipart()\n",
    "    msg['From'] = from_email\n",
    "    msg['To'] = to_email\n",
    "    msg['Subject'] = subject\n",
    "\n",
    "    # Add body to email\n",
    "    msg.attach(MIMEText(body, 'plain'))\n",
    "\n",
    "    # Send the email\n",
    "    server.send_message(msg)\n",
    "    server.quit()\n",
    "\n",
    "def send_email_mailgun(subject, body, to_email):\n",
    "    # Set up the email server\n",
    "    from_email = \"postmaster@sandboxf2605f56baa541c1ac6147fe4068bfec.mailgun.org\"\n",
    "    password = \"249f7b0de089885203f87e8bf90f5cff-a4da91cf-09301798\"\n",
    "    server = smtplib.SMTP('smtp.mailgun.org', 587)\n",
    "    server.starttls()  # Use TLS\n",
    "    server.login(from_email, password)\n",
    "\n",
    "    # Create the email\n",
    "    msg = MIMEMultipart()\n",
    "    msg['From'] = from_email\n",
    "    msg['To'] = to_email\n",
    "    msg['Subject'] = subject\n",
    "\n",
    "    # Add body to email\n",
    "    msg.attach(MIMEText(body, 'plain'))\n",
    "\n",
    "    # Send the email\n",
    "    server.send_message(msg)\n",
    "    server.quit()\n",
    "\n",
    "# Replace the following with your details\n",
    "# your_email = \"yong_515@outlook.com\"\n",
    "# your_password = \"Ner0sub!ime\"  # Your app password or password if less secure apps are enabled\n",
    "# send_email(\"End of training\", \"Model Training has finished.\", your_email, your_email, your_password)\n"
   ]
  },
  {
   "cell_type": "code",
   "execution_count": 7,
   "metadata": {},
   "outputs": [],
   "source": [
    "gpus = tf.config.experimental.list_physical_devices('GPU')\n",
    "if gpus:\n",
    "  try:\n",
    "    tf.config.experimental.set_virtual_device_configuration(gpus[0], [tf.config.experimental.VirtualDeviceConfiguration(memory_limit=1024*6)])\n",
    "  except RuntimeError as e:\n",
    "    print(e)"
   ]
  },
  {
   "cell_type": "code",
   "execution_count": 7,
   "metadata": {},
   "outputs": [
    {
     "ename": "ValueError",
     "evalue": "Cannot set memory growth on device when virtual devices configured",
     "output_type": "error",
     "traceback": [
      "\u001b[0;31m---------------------------------------------------------------------------\u001b[0m",
      "\u001b[0;31mValueError\u001b[0m                                Traceback (most recent call last)",
      "Cell \u001b[0;32mIn[7], line 8\u001b[0m\n\u001b[1;32m      5\u001b[0m \u001b[38;5;28;01mtry\u001b[39;00m:\n\u001b[1;32m      6\u001b[0m     \u001b[38;5;66;03m# Currently, memory growth needs to be the same across GPUs\u001b[39;00m\n\u001b[1;32m      7\u001b[0m     \u001b[38;5;28;01mfor\u001b[39;00m gpu \u001b[38;5;129;01min\u001b[39;00m gpus:\n\u001b[0;32m----> 8\u001b[0m         \u001b[43mtf\u001b[49m\u001b[38;5;241;43m.\u001b[39;49m\u001b[43mconfig\u001b[49m\u001b[38;5;241;43m.\u001b[39;49m\u001b[43mexperimental\u001b[49m\u001b[38;5;241;43m.\u001b[39;49m\u001b[43mset_memory_growth\u001b[49m\u001b[43m(\u001b[49m\u001b[43mgpu\u001b[49m\u001b[43m,\u001b[49m\u001b[43m \u001b[49m\u001b[38;5;28;43;01mTrue\u001b[39;49;00m\u001b[43m)\u001b[49m\n\u001b[1;32m      9\u001b[0m \u001b[38;5;28;01mexcept\u001b[39;00m \u001b[38;5;167;01mRuntimeError\u001b[39;00m \u001b[38;5;28;01mas\u001b[39;00m e:\n\u001b[1;32m     10\u001b[0m     \u001b[38;5;66;03m# Memory growth must be set before GPUs have been initialized\u001b[39;00m\n\u001b[1;32m     11\u001b[0m     \u001b[38;5;28mprint\u001b[39m(e)\n",
      "File \u001b[0;32m~/miniconda3/envs/tf/lib/python3.9/site-packages/tensorflow/python/framework/config.py:716\u001b[0m, in \u001b[0;36mset_memory_growth\u001b[0;34m(device, enable)\u001b[0m\n\u001b[1;32m    691\u001b[0m \u001b[38;5;129m@tf_export\u001b[39m(\u001b[38;5;124m'\u001b[39m\u001b[38;5;124mconfig.experimental.set_memory_growth\u001b[39m\u001b[38;5;124m'\u001b[39m)\n\u001b[1;32m    692\u001b[0m \u001b[38;5;28;01mdef\u001b[39;00m \u001b[38;5;21mset_memory_growth\u001b[39m(device, enable):\n\u001b[1;32m    693\u001b[0m \u001b[38;5;250m  \u001b[39m\u001b[38;5;124;03m\"\"\"Set if memory growth should be enabled for a `PhysicalDevice`.\u001b[39;00m\n\u001b[1;32m    694\u001b[0m \n\u001b[1;32m    695\u001b[0m \u001b[38;5;124;03m  If memory growth is enabled for a `PhysicalDevice`, the runtime initialization\u001b[39;00m\n\u001b[0;32m   (...)\u001b[0m\n\u001b[1;32m    714\u001b[0m \u001b[38;5;124;03m    RuntimeError: Runtime is already initialized.\u001b[39;00m\n\u001b[1;32m    715\u001b[0m \u001b[38;5;124;03m  \"\"\"\u001b[39;00m\n\u001b[0;32m--> 716\u001b[0m   \u001b[43mcontext\u001b[49m\u001b[38;5;241;43m.\u001b[39;49m\u001b[43mcontext\u001b[49m\u001b[43m(\u001b[49m\u001b[43m)\u001b[49m\u001b[38;5;241;43m.\u001b[39;49m\u001b[43mset_memory_growth\u001b[49m\u001b[43m(\u001b[49m\u001b[43mdevice\u001b[49m\u001b[43m,\u001b[49m\u001b[43m \u001b[49m\u001b[43menable\u001b[49m\u001b[43m)\u001b[49m\n",
      "File \u001b[0;32m~/miniconda3/envs/tf/lib/python3.9/site-packages/tensorflow/python/eager/context.py:1655\u001b[0m, in \u001b[0;36mContext.set_memory_growth\u001b[0;34m(self, dev, enable)\u001b[0m\n\u001b[1;32m   1652\u001b[0m   \u001b[38;5;28;01mraise\u001b[39;00m \u001b[38;5;167;01mValueError\u001b[39;00m(\u001b[38;5;124m\"\u001b[39m\u001b[38;5;124mUnrecognized device: \u001b[39m\u001b[38;5;132;01m%s\u001b[39;00m\u001b[38;5;124m\"\u001b[39m \u001b[38;5;241m%\u001b[39m \u001b[38;5;28mrepr\u001b[39m(dev))\n\u001b[1;32m   1654\u001b[0m \u001b[38;5;28;01mif\u001b[39;00m dev \u001b[38;5;129;01min\u001b[39;00m \u001b[38;5;28mself\u001b[39m\u001b[38;5;241m.\u001b[39m_virtual_device_map:\n\u001b[0;32m-> 1655\u001b[0m   \u001b[38;5;28;01mraise\u001b[39;00m \u001b[38;5;167;01mValueError\u001b[39;00m(\n\u001b[1;32m   1656\u001b[0m       \u001b[38;5;124m\"\u001b[39m\u001b[38;5;124mCannot set memory growth on device when virtual devices configured\u001b[39m\u001b[38;5;124m\"\u001b[39m)\n\u001b[1;32m   1658\u001b[0m \u001b[38;5;28;01mif\u001b[39;00m dev\u001b[38;5;241m.\u001b[39mdevice_type \u001b[38;5;241m!=\u001b[39m \u001b[38;5;124m\"\u001b[39m\u001b[38;5;124mGPU\u001b[39m\u001b[38;5;124m\"\u001b[39m \u001b[38;5;129;01mand\u001b[39;00m dev \u001b[38;5;129;01mnot\u001b[39;00m \u001b[38;5;129;01min\u001b[39;00m \u001b[38;5;28mself\u001b[39m\u001b[38;5;241m.\u001b[39m_pluggable_devices:\n\u001b[1;32m   1659\u001b[0m   \u001b[38;5;28;01mraise\u001b[39;00m \u001b[38;5;167;01mValueError\u001b[39;00m(\n\u001b[1;32m   1660\u001b[0m       \u001b[38;5;124m\"\u001b[39m\u001b[38;5;124mCannot set memory growth on non-GPU and non-Pluggable devices\u001b[39m\u001b[38;5;124m\"\u001b[39m)\n",
      "\u001b[0;31mValueError\u001b[0m: Cannot set memory growth on device when virtual devices configured"
     ]
    }
   ],
   "source": [
    "import tensorflow as tf\n",
    "\n",
    "gpus = tf.config.experimental.list_physical_devices('GPU')\n",
    "if gpus:\n",
    "    try:\n",
    "        # Currently, memory growth needs to be the same across GPUs\n",
    "        for gpu in gpus:\n",
    "            tf.config.experimental.set_memory_growth(gpu, True)\n",
    "    except RuntimeError as e:\n",
    "        # Memory growth must be set before GPUs have been initialized\n",
    "        print(e)\n"
   ]
  },
  {
   "cell_type": "code",
   "execution_count": 8,
   "metadata": {},
   "outputs": [],
   "source": [
    "df = pd.read_csv('edge_images/preprocessed.csv')"
   ]
  },
  {
   "cell_type": "code",
   "execution_count": 9,
   "metadata": {},
   "outputs": [
    {
     "name": "stdout",
     "output_type": "stream",
     "text": [
      "<class 'pandas.core.frame.DataFrame'>\n",
      "RangeIndex: 53416 entries, 0 to 53415\n",
      "Data columns (total 11 columns):\n",
      " #   Column        Non-Null Count  Dtype  \n",
      "---  ------        --------------  -----  \n",
      " 0   ID            53416 non-null  object \n",
      " 1   Sex           53416 non-null  object \n",
      " 2   Height        53416 non-null  object \n",
      " 3   Weight        53416 non-null  object \n",
      " 4   Hair          53416 non-null  object \n",
      " 5   Eyes          53416 non-null  object \n",
      " 6   Race          53416 non-null  object \n",
      " 7   Sex Offender  53416 non-null  bool   \n",
      " 8   Offense       53416 non-null  object \n",
      " 9   Height_cm     53416 non-null  float64\n",
      " 10  Weight_kg     53416 non-null  float64\n",
      "dtypes: bool(1), float64(2), object(8)\n",
      "memory usage: 4.1+ MB\n"
     ]
    }
   ],
   "source": [
    "df.info()"
   ]
  },
  {
   "cell_type": "code",
   "execution_count": 10,
   "metadata": {},
   "outputs": [],
   "source": [
    "import os\n",
    "\n",
    "img_path = 'edge_images/side/side/'\n",
    "\n",
    "img_filenames = os.listdir(img_path)\n",
    "\n",
    "img_filenames = pd.Series(img_filenames).apply(lambda x : str(x).split('.')[0])"
   ]
  },
  {
   "cell_type": "code",
   "execution_count": 11,
   "metadata": {},
   "outputs": [
    {
     "data": {
      "text/plain": [
       "False"
      ]
     },
     "execution_count": 11,
     "metadata": {},
     "output_type": "execute_result"
    }
   ],
   "source": [
    "np.any(~df['ID'].isin(img_filenames))"
   ]
  },
  {
   "cell_type": "code",
   "execution_count": 12,
   "metadata": {},
   "outputs": [],
   "source": [
    "data = df[['ID', 'Weight_kg']]"
   ]
  },
  {
   "cell_type": "code",
   "execution_count": 13,
   "metadata": {},
   "outputs": [
    {
     "name": "stderr",
     "output_type": "stream",
     "text": [
      "/tmp/ipykernel_753967/2183077761.py:1: SettingWithCopyWarning: \n",
      "A value is trying to be set on a copy of a slice from a DataFrame.\n",
      "Try using .loc[row_indexer,col_indexer] = value instead\n",
      "\n",
      "See the caveats in the documentation: https://pandas.pydata.org/pandas-docs/stable/user_guide/indexing.html#returning-a-view-versus-a-copy\n",
      "  data['ID'] = img_path+data['ID']+'.jpg'\n"
     ]
    }
   ],
   "source": [
    "data['ID'] = img_path+data['ID']+'.jpg'"
   ]
  },
  {
   "cell_type": "code",
   "execution_count": 14,
   "metadata": {},
   "outputs": [
    {
     "data": {
      "text/plain": [
       "0        edge_images/side/side/A00147.jpg\n",
       "1        edge_images/side/side/A00198.jpg\n",
       "2        edge_images/side/side/A01072.jpg\n",
       "3        edge_images/side/side/A01077.jpg\n",
       "4        edge_images/side/side/A01148.jpg\n",
       "                       ...               \n",
       "53411    edge_images/side/side/Y29993.jpg\n",
       "53412    edge_images/side/side/Y29994.jpg\n",
       "53413    edge_images/side/side/Y29996.jpg\n",
       "53414    edge_images/side/side/Y30000.jpg\n",
       "53415    edge_images/side/side/Y54605.jpg\n",
       "Name: ID, Length: 53416, dtype: object"
      ]
     },
     "execution_count": 14,
     "metadata": {},
     "output_type": "execute_result"
    }
   ],
   "source": [
    "data['ID']\n"
   ]
  },
  {
   "cell_type": "code",
   "execution_count": 15,
   "metadata": {},
   "outputs": [],
   "source": [
    "train_data = data[:int(0.8 * len(data))]  # 80% of data for training\n",
    "val_data = data[int(0.8 * len(data)):int(0.9 * len(data))]  # next 10% of data for validation\n",
    "test_data = data[int(0.9 * len(data)):]  # last 10% of data for testing\n",
    "\n",
    "# convert to tuple\n",
    "train_data = (train_data['ID'].values, train_data['Weight_kg'].values)\n",
    "val_data = (val_data['ID'].values, val_data['Weight_kg'].values)\n",
    "test_data = (test_data['ID'].values, test_data['Weight_kg'].values)"
   ]
  },
  {
   "cell_type": "code",
   "execution_count": 16,
   "metadata": {},
   "outputs": [
    {
     "data": {
      "text/plain": [
       "(array(['edge_images/side/side/A00147.jpg',\n",
       "        'edge_images/side/side/A00198.jpg',\n",
       "        'edge_images/side/side/A01072.jpg', ...,\n",
       "        'edge_images/side/side/Y14368.jpg',\n",
       "        'edge_images/side/side/Y14370.jpg',\n",
       "        'edge_images/side/side/Y14371.jpg'], dtype=object),\n",
       " array([ 83.91452 ,  86.18248 ,  88.45044 , ...,  81.64656 , 118.387512,\n",
       "         74.84268 ]))"
      ]
     },
     "execution_count": 16,
     "metadata": {},
     "output_type": "execute_result"
    }
   ],
   "source": [
    "train_data"
   ]
  },
  {
   "cell_type": "code",
   "execution_count": 17,
   "metadata": {},
   "outputs": [],
   "source": [
    "BATCH_SIZE = 32"
   ]
  },
  {
   "cell_type": "code",
   "execution_count": 18,
   "metadata": {},
   "outputs": [],
   "source": [
    "# read images file by file path\n",
    "def read_imgs(file_paths):\n",
    "    imgs = tf.TensorArray(tf.float32, size=BATCH_SIZE)\n",
    "    i=0\n",
    "    for file_path in file_paths:\n",
    "        img = tf.io.read_file(file_path)\n",
    "        img = tf.image.decode_jpeg(img, channels=3)\n",
    "        img = tf.image.resize(img, (224, 224))\n",
    "        img = preprocess_input(img)\n",
    "        imgs = imgs.write(i, img)\n",
    "        i+=1\n",
    "    return imgs.stack()"
   ]
  },
  {
   "cell_type": "code",
   "execution_count": 19,
   "metadata": {},
   "outputs": [
    {
     "data": {
      "text/plain": [
       "array(['edge_images/side/side/A00147.jpg',\n",
       "       'edge_images/side/side/A00198.jpg',\n",
       "       'edge_images/side/side/A01072.jpg',\n",
       "       'edge_images/side/side/A01077.jpg',\n",
       "       'edge_images/side/side/A01148.jpg'], dtype=object)"
      ]
     },
     "execution_count": 19,
     "metadata": {},
     "output_type": "execute_result"
    }
   ],
   "source": [
    "train_data[0][:5]"
   ]
  },
  {
   "cell_type": "code",
   "execution_count": 20,
   "metadata": {},
   "outputs": [],
   "source": [
    "# your_email = \"yong_515@outlook.com\"\n",
    "# your_password = \"Ner0sub!ime\"  # Your app password or password if less secure apps are enabled\n",
    "# send_email(\"End of training\", \"Model Training has finished.\", your_email, your_email, your_password)"
   ]
  },
  {
   "cell_type": "code",
   "execution_count": 21,
   "metadata": {},
   "outputs": [
    {
     "data": {
      "text/plain": [
       "<matplotlib.image.AxesImage at 0x7f8ea8485b20>"
      ]
     },
     "execution_count": 21,
     "metadata": {},
     "output_type": "execute_result"
    },
    {
     "data": {
      "image/png": "[encoded data removed]",
      "text/plain": [
       "<Figure size 640x480 with 1 Axes>"
      ]
     },
     "metadata": {},
     "output_type": "display_data"
    }
   ],
   "source": [
    "plt.imshow(tf.cast(read_imgs(train_data[0][:5])[0], tf.int32))"
   ]
  },
  {
   "cell_type": "code",
   "execution_count": 22,
   "metadata": {},
   "outputs": [],
   "source": [
    "# run eagerly\n",
    "# tf.config.run_functions_eagerly(True)\n",
    "train_set = tf.data.Dataset.from_tensor_slices(train_data).shuffle(10000).batch(BATCH_SIZE, drop_remainder=True).map(lambda x, y: (read_imgs(x), y)).prefetch(1)\n",
    "val_set = tf.data.Dataset.from_tensor_slices(val_data).shuffle(10000).batch(BATCH_SIZE, drop_remainder=True).map(lambda x, y: (read_imgs(x), y)).prefetch(1)\n",
    "test_set = tf.data.Dataset.from_tensor_slices(test_data).shuffle(10000).batch(BATCH_SIZE, drop_remainder=True).map(lambda x, y: (read_imgs(x), y)).prefetch(1)"
   ]
  },
  {
   "cell_type": "code",
   "execution_count": 23,
   "metadata": {},
   "outputs": [],
   "source": [
    "# Data augmentation layers\n",
    "data_augmentation_front = tf.keras.Sequential([\n",
    "    tf.keras.layers.RandomFlip(\"horizontal\"),\n",
    "    tf.keras.layers.RandomBrightness(factor = (-0.15, 0.1)),  # adjust according to your needs\n",
    "    tf.keras.layers.RandomZoom(height_factor=(-0.1, 0.05)),        # adjust according to your needs\n",
    "])\n",
    "data_augmentation_side = tf.keras.Sequential([\n",
    "    tf.keras.layers.RandomBrightness(factor = (-0.25, 0.1)),  # adjust according to your needs\n",
    "    tf.keras.layers.RandomContrast(0.5),    # adjust according to your needs\n",
    "    tf.keras.layers.RandomZoom(height_factor=(-0.2, 0.1)),        # adjust according to your needs\n",
    "])"
   ]
  },
  {
   "cell_type": "code",
   "execution_count": 114,
   "metadata": {},
   "outputs": [],
   "source": [
    "# create model\n",
    "base_model = EfficientNetB0(include_top=False, weights='imagenet', input_shape=(224, 224, 3))\n",
    "\n",
    "model = tf.keras.Sequential([\n",
    "    data_augmentation_side,\n",
    "    base_model,\n",
    "    tf.keras.layers.GlobalAveragePooling2D(),\n",
    "    tf.keras.layers.Dense(1)\n",
    "])"
   ]
  },
  {
   "cell_type": "markdown",
   "metadata": {},
   "source": [
    "# train"
   ]
  },
  {
   "cell_type": "code",
   "execution_count": 115,
   "metadata": {},
   "outputs": [
    {
     "name": "stdout",
     "output_type": "stream",
     "text": [
      "0 input_7\n",
      "1 rescaling_12\n",
      "2 normalization_6\n",
      "3 rescaling_13\n",
      "4 stem_conv_pad\n",
      "5 stem_conv\n",
      "6 stem_bn\n",
      "7 stem_activation\n",
      "8 block1a_dwconv\n",
      "9 block1a_bn\n",
      "10 block1a_activation\n",
      "11 block1a_se_squeeze\n",
      "12 block1a_se_reshape\n",
      "13 block1a_se_reduce\n",
      "14 block1a_se_expand\n",
      "15 block1a_se_excite\n",
      "16 block1a_project_conv\n",
      "17 block1a_project_bn\n",
      "18 block2a_expand_conv\n",
      "19 block2a_expand_bn\n",
      "20 block2a_expand_activation\n",
      "21 block2a_dwconv_pad\n",
      "22 block2a_dwconv\n",
      "23 block2a_bn\n",
      "24 block2a_activation\n",
      "25 block2a_se_squeeze\n",
      "26 block2a_se_reshape\n",
      "27 block2a_se_reduce\n",
      "28 block2a_se_expand\n",
      "29 block2a_se_excite\n",
      "30 block2a_project_conv\n",
      "31 block2a_project_bn\n",
      "32 block2b_expand_conv\n",
      "33 block2b_expand_bn\n",
      "34 block2b_expand_activation\n",
      "35 block2b_dwconv\n",
      "36 block2b_bn\n",
      "37 block2b_activation\n",
      "38 block2b_se_squeeze\n",
      "39 block2b_se_reshape\n",
      "40 block2b_se_reduce\n",
      "41 block2b_se_expand\n",
      "42 block2b_se_excite\n",
      "43 block2b_project_conv\n",
      "44 block2b_project_bn\n",
      "45 block2b_drop\n",
      "46 block2b_add\n",
      "47 block3a_expand_conv\n",
      "48 block3a_expand_bn\n",
      "49 block3a_expand_activation\n",
      "50 block3a_dwconv_pad\n",
      "51 block3a_dwconv\n",
      "52 block3a_bn\n",
      "53 block3a_activation\n",
      "54 block3a_se_squeeze\n",
      "55 block3a_se_reshape\n",
      "56 block3a_se_reduce\n",
      "57 block3a_se_expand\n",
      "58 block3a_se_excite\n",
      "59 block3a_project_conv\n",
      "60 block3a_project_bn\n",
      "61 block3b_expand_conv\n",
      "62 block3b_expand_bn\n",
      "63 block3b_expand_activation\n",
      "64 block3b_dwconv\n",
      "65 block3b_bn\n",
      "66 block3b_activation\n",
      "67 block3b_se_squeeze\n",
      "68 block3b_se_reshape\n",
      "69 block3b_se_reduce\n",
      "70 block3b_se_expand\n",
      "71 block3b_se_excite\n",
      "72 block3b_project_conv\n",
      "73 block3b_project_bn\n",
      "74 block3b_drop\n",
      "75 block3b_add\n",
      "76 block4a_expand_conv\n",
      "77 block4a_expand_bn\n",
      "78 block4a_expand_activation\n",
      "79 block4a_dwconv_pad\n",
      "80 block4a_dwconv\n",
      "81 block4a_bn\n",
      "82 block4a_activation\n",
      "83 block4a_se_squeeze\n",
      "84 block4a_se_reshape\n",
      "85 block4a_se_reduce\n",
      "86 block4a_se_expand\n",
      "87 block4a_se_excite\n",
      "88 block4a_project_conv\n",
      "89 block4a_project_bn\n",
      "90 block4b_expand_conv\n",
      "91 block4b_expand_bn\n",
      "92 block4b_expand_activation\n",
      "93 block4b_dwconv\n",
      "94 block4b_bn\n",
      "95 block4b_activation\n",
      "96 block4b_se_squeeze\n",
      "97 block4b_se_reshape\n",
      "98 block4b_se_reduce\n",
      "99 block4b_se_expand\n",
      "100 block4b_se_excite\n",
      "101 block4b_project_conv\n",
      "102 block4b_project_bn\n",
      "103 block4b_drop\n",
      "104 block4b_add\n",
      "105 block4c_expand_conv\n",
      "106 block4c_expand_bn\n",
      "107 block4c_expand_activation\n",
      "108 block4c_dwconv\n",
      "109 block4c_bn\n",
      "110 block4c_activation\n",
      "111 block4c_se_squeeze\n",
      "112 block4c_se_reshape\n",
      "113 block4c_se_reduce\n",
      "114 block4c_se_expand\n",
      "115 block4c_se_excite\n",
      "116 block4c_project_conv\n",
      "117 block4c_project_bn\n",
      "118 block4c_drop\n",
      "119 block4c_add\n",
      "120 block5a_expand_conv\n",
      "121 block5a_expand_bn\n",
      "122 block5a_expand_activation\n",
      "123 block5a_dwconv\n",
      "124 block5a_bn\n",
      "125 block5a_activation\n",
      "126 block5a_se_squeeze\n",
      "127 block5a_se_reshape\n",
      "128 block5a_se_reduce\n",
      "129 block5a_se_expand\n",
      "130 block5a_se_excite\n",
      "131 block5a_project_conv\n",
      "132 block5a_project_bn\n",
      "133 block5b_expand_conv\n",
      "134 block5b_expand_bn\n",
      "135 block5b_expand_activation\n",
      "136 block5b_dwconv\n",
      "137 block5b_bn\n",
      "138 block5b_activation\n",
      "139 block5b_se_squeeze\n",
      "140 block5b_se_reshape\n",
      "141 block5b_se_reduce\n",
      "142 block5b_se_expand\n",
      "143 block5b_se_excite\n",
      "144 block5b_project_conv\n",
      "145 block5b_project_bn\n",
      "146 block5b_drop\n",
      "147 block5b_add\n",
      "148 block5c_expand_conv\n",
      "149 block5c_expand_bn\n",
      "150 block5c_expand_activation\n",
      "151 block5c_dwconv\n",
      "152 block5c_bn\n",
      "153 block5c_activation\n",
      "154 block5c_se_squeeze\n",
      "155 block5c_se_reshape\n",
      "156 block5c_se_reduce\n",
      "157 block5c_se_expand\n",
      "158 block5c_se_excite\n",
      "159 block5c_project_conv\n",
      "160 block5c_project_bn\n",
      "161 block5c_drop\n",
      "162 block5c_add\n",
      "163 block6a_expand_conv\n",
      "164 block6a_expand_bn\n",
      "165 block6a_expand_activation\n",
      "166 block6a_dwconv_pad\n",
      "167 block6a_dwconv\n",
      "168 block6a_bn\n",
      "169 block6a_activation\n",
      "170 block6a_se_squeeze\n",
      "171 block6a_se_reshape\n",
      "172 block6a_se_reduce\n",
      "173 block6a_se_expand\n",
      "174 block6a_se_excite\n",
      "175 block6a_project_conv\n",
      "176 block6a_project_bn\n",
      "177 block6b_expand_conv\n",
      "178 block6b_expand_bn\n",
      "179 block6b_expand_activation\n",
      "180 block6b_dwconv\n",
      "181 block6b_bn\n",
      "182 block6b_activation\n",
      "183 block6b_se_squeeze\n",
      "184 block6b_se_reshape\n",
      "185 block6b_se_reduce\n",
      "186 block6b_se_expand\n",
      "187 block6b_se_excite\n",
      "188 block6b_project_conv\n",
      "189 block6b_project_bn\n",
      "190 block6b_drop\n",
      "191 block6b_add\n",
      "192 block6c_expand_conv\n",
      "193 block6c_expand_bn\n",
      "194 block6c_expand_activation\n",
      "195 block6c_dwconv\n",
      "196 block6c_bn\n",
      "197 block6c_activation\n",
      "198 block6c_se_squeeze\n",
      "199 block6c_se_reshape\n",
      "200 block6c_se_reduce\n",
      "201 block6c_se_expand\n",
      "202 block6c_se_excite\n",
      "203 block6c_project_conv\n",
      "204 block6c_project_bn\n",
      "205 block6c_drop\n",
      "206 block6c_add\n",
      "207 block6d_expand_conv\n",
      "208 block6d_expand_bn\n",
      "209 block6d_expand_activation\n",
      "210 block6d_dwconv\n",
      "211 block6d_bn\n",
      "212 block6d_activation\n",
      "213 block6d_se_squeeze\n",
      "214 block6d_se_reshape\n",
      "215 block6d_se_reduce\n",
      "216 block6d_se_expand\n",
      "217 block6d_se_excite\n",
      "218 block6d_project_conv\n",
      "219 block6d_project_bn\n",
      "220 block6d_drop\n",
      "221 block6d_add\n",
      "222 block7a_expand_conv\n",
      "223 block7a_expand_bn\n",
      "224 block7a_expand_activation\n",
      "225 block7a_dwconv\n",
      "226 block7a_bn\n",
      "227 block7a_activation\n",
      "228 block7a_se_squeeze\n",
      "229 block7a_se_reshape\n",
      "230 block7a_se_reduce\n",
      "231 block7a_se_expand\n",
      "232 block7a_se_excite\n",
      "233 block7a_project_conv\n",
      "234 block7a_project_bn\n",
      "235 top_conv\n",
      "236 top_bn\n",
      "237 top_activation\n"
     ]
    }
   ],
   "source": [
    "for i, layers in enumerate(base_model.layers) : \n",
    "    print(i, layers.name)"
   ]
  },
  {
   "cell_type": "code",
   "execution_count": 138,
   "metadata": {},
   "outputs": [
    {
     "name": "stdout",
     "output_type": "stream",
     "text": [
      "Model: \"sequential_8\"\n",
      "_________________________________________________________________\n",
      " Layer (type)                Output Shape              Param #   \n",
      "=================================================================\n",
      " sequential_1 (Sequential)   (None, 224, 224, 3)       0         \n",
      "                                                                 \n",
      " efficientnetb0 (Functional)  (None, 7, 7, 1280)       4049571   \n",
      "                                                                 \n",
      " global_average_pooling2d_6   (None, 1280)             0         \n",
      " (GlobalAveragePooling2D)                                        \n",
      "                                                                 \n",
      " dense_6 (Dense)             (None, 1)                 1281      \n",
      "                                                                 \n",
      "=================================================================\n",
      "Total params: 4,050,852\n",
      "Trainable params: 4,008,829\n",
      "Non-trainable params: 42,023\n",
      "_________________________________________________________________\n"
     ]
    }
   ],
   "source": [
    "base_model.trainable = True\n",
    "\n",
    "N = 0\n",
    "for layer in base_model.layers [:N]: \n",
    "    layer.trainable = False\n",
    "\n",
    "model.build(input_shape=(None, 224,224,3))\n",
    "model.compile(optimizer='adam', loss='mean_squared_error', metrics=['mae'])\n",
    "K.set_value(model.optimizer.learning_rate, model.optimizer.learning_rate)\n",
    "model.summary()"
   ]
  },
  {
   "cell_type": "code",
   "execution_count": 125,
   "metadata": {},
   "outputs": [],
   "source": [
    "dense_weights = model.layers[-1].get_weights()"
   ]
  },
  {
   "cell_type": "code",
   "execution_count": 87,
   "metadata": {},
   "outputs": [],
   "source": [
    "dense_layer = model.layers[-1]\n",
    "\n",
    "dense_layer.set_weights(dense_weights)"
   ]
  },
  {
   "cell_type": "code",
   "execution_count": 139,
   "metadata": {},
   "outputs": [
    {
     "data": {
      "text/plain": [
       "<tensorflow.python.checkpoint.checkpoint.CheckpointLoadStatus at 0x7f8d6b479160>"
      ]
     },
     "execution_count": 139,
     "metadata": {},
     "output_type": "execute_result"
    }
   ],
   "source": [
    "model.load_weights('models/edge_model/side_edge_5')"
   ]
  },
  {
   "cell_type": "code",
   "execution_count": 140,
   "metadata": {},
   "outputs": [],
   "source": [
    "early_stopping = tf.keras.callbacks.EarlyStopping(patience=5, restore_best_weights=True)"
   ]
  },
  {
   "cell_type": "code",
   "execution_count": 141,
   "metadata": {},
   "outputs": [],
   "source": [
    "tf.get_logger().setLevel('ERROR')"
   ]
  },
  {
   "cell_type": "code",
   "execution_count": 142,
   "metadata": {},
   "outputs": [
    {
     "name": "stdout",
     "output_type": "stream",
     "text": [
      "Epoch 1/100\n",
      "1335/1335 [==============================] - 506s 371ms/step - loss: 195.5001 - mae: 10.6443 - val_loss: 223.5302 - val_mae: 11.9808\n",
      "Epoch 2/100\n",
      "1335/1335 [==============================] - 496s 372ms/step - loss: 179.6564 - mae: 10.2383 - val_loss: 231.4327 - val_mae: 12.1692\n",
      "Epoch 3/100\n",
      "1335/1335 [==============================] - 496s 372ms/step - loss: 172.3639 - mae: 10.0238 - val_loss: 179.1303 - val_mae: 10.2235\n",
      "Epoch 4/100\n",
      "1335/1335 [==============================] - 496s 372ms/step - loss: 166.9157 - mae: 9.8941 - val_loss: 183.7571 - val_mae: 10.3719\n",
      "Epoch 5/100\n",
      "1335/1335 [==============================] - 492s 369ms/step - loss: 160.8435 - mae: 9.7604 - val_loss: 185.5950 - val_mae: 10.4296\n",
      "Epoch 6/100\n",
      "1335/1335 [==============================] - 493s 370ms/step - loss: 155.3191 - mae: 9.6092 - val_loss: 185.3807 - val_mae: 10.5142\n",
      "Epoch 7/100\n",
      "1335/1335 [==============================] - 495s 371ms/step - loss: 149.3322 - mae: 9.4472 - val_loss: 181.4885 - val_mae: 10.3220\n",
      "Epoch 8/100\n",
      "1335/1335 [==============================] - 495s 371ms/step - loss: 143.6635 - mae: 9.2772 - val_loss: 184.8615 - val_mae: 10.3590\n"
     ]
    },
    {
     "data": {
      "text/plain": [
       "<keras.callbacks.History at 0x7f8d683e13a0>"
      ]
     },
     "execution_count": 142,
     "metadata": {},
     "output_type": "execute_result"
    }
   ],
   "source": [
    "model.fit(train_set, validation_data=val_set, epochs=100, callbacks = [early_stopping])"
   ]
  },
  {
   "cell_type": "markdown",
   "metadata": {},
   "source": []
  },
  {
   "cell_type": "code",
   "execution_count": 136,
   "metadata": {},
   "outputs": [
    {
     "name": "stdout",
     "output_type": "stream",
     "text": [
      "{'ok': True, 'result': {'message_id': 3, 'from': {'id': 7217981545, 'is_bot': True, 'first_name': 'NotificationBot', 'username': 'Noti73510Bot'}, 'chat': {'id': 6183060417, 'first_name': 'polypenol82', 'username': 'polypenol82', 'type': 'private'}, 'date': 1717839352, 'text': 'Your Training is finished!'}}\n"
     ]
    }
   ],
   "source": [
    "import requests\n",
    "def send_telegram_message(bot_token, chat_id, message):\n",
    "    url = f\"https://api.telegram.org/bot{bot_token}/sendMessage\"\n",
    "    payload = {\"chat_id\": chat_id, \"text\": message}\n",
    "    response = requests.post(url, data=payload)\n",
    "    return response.json()\n",
    "\n",
    "# bot_token = '7217981545:AAE4RgPEDfmRVxGOBtegWEfWIAo4V06ZgVU'\n",
    "# chat_id = '6183060417'\n",
    "# message = 'Your Training is finished!'\n",
    "# print(send_telegram_message(bot_token, chat_id, message))\n"
   ]
  },
  {
   "cell_type": "code",
   "execution_count": 143,
   "metadata": {},
   "outputs": [
    {
     "name": "stdout",
     "output_type": "stream",
     "text": [
      "{'ok': True, 'result': {'message_id': 4, 'from': {'id': 7217981545, 'is_bot': True, 'first_name': 'NotificationBot', 'username': 'Noti73510Bot'}, 'chat': {'id': 6183060417, 'first_name': 'polypenol82', 'username': 'polypenol82', 'type': 'private'}, 'date': 1717843579, 'text': 'Your Training is finished!'}}\n"
     ]
    }
   ],
   "source": [
    "print(send_telegram_message(bot_token, chat_id, message))"
   ]
  },
  {
   "cell_type": "code",
   "execution_count": 144,
   "metadata": {},
   "outputs": [
    {
     "name": "stdout",
     "output_type": "stream",
     "text": [
      "166/166 [==============================] - 7s 40ms/step - loss: 178.3527 - mae: 10.1906\n"
     ]
    },
    {
     "data": {
      "text/plain": [
       "[178.3526611328125, 10.190610885620117]"
      ]
     },
     "execution_count": 144,
     "metadata": {},
     "output_type": "execute_result"
    }
   ],
   "source": [
    "model.evaluate(test_set)"
   ]
  },
  {
   "cell_type": "code",
   "execution_count": 123,
   "metadata": {},
   "outputs": [],
   "source": [
    "model.save_weights('models/edge_model/side_edge_5')"
   ]
  },
  {
   "cell_type": "code",
   "execution_count": null,
   "metadata": {},
   "outputs": [],
   "source": []
  }
 ],
 "metadata": {
  "kernelspec": {
   "display_name": "Python 3 (ipykernel)",
   "language": "python",
   "name": "python3"
  },
  "language_info": {
   "codemirror_mode": {
    "name": "ipython",
    "version": 3
   },
   "file_extension": ".py",
   "mimetype": "text/x-python",
   "name": "python",
   "nbconvert_exporter": "python",
   "pygments_lexer": "ipython3",
   "version": "3.9.19"
  }
 },
 "nbformat": 4,
 "nbformat_minor": 2
}
