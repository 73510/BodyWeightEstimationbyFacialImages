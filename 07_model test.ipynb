{
 "cells": [
  {
   "cell_type": "code",
   "execution_count": 1,
   "metadata": {},
   "outputs": [],
   "source": [
    "import numpy as np\n",
    "import matplotlib.pyplot as plt\n",
    "import pandas as pd\n",
    "import seaborn as sns"
   ]
  },
  {
   "cell_type": "code",
   "execution_count": 2,
   "metadata": {},
   "outputs": [],
   "source": [
    "import os\n",
    "# os.environ[\"CUDA_VISIBLE_DEVICES\"] = \"1\"\n",
    "os.environ[\"TF_CPP_MIN_LOG_LEVEL\"] = \"1\""
   ]
  },
  {
   "cell_type": "code",
   "execution_count": 3,
   "metadata": {},
   "outputs": [],
   "source": [
    "import tensorflow as tf"
   ]
  },
  {
   "cell_type": "code",
   "execution_count": 4,
   "metadata": {},
   "outputs": [],
   "source": [
    "import tensorflow.keras.backend as K"
   ]
  },
  {
   "cell_type": "code",
   "execution_count": 5,
   "metadata": {},
   "outputs": [],
   "source": [
    "from tensorflow.keras.applications import EfficientNetB0\n",
    "from tensorflow.keras.applications.efficientnet import preprocess_input\n",
    "import matplotlib.pyplot as plt"
   ]
  },
  {
   "cell_type": "markdown",
   "metadata": {},
   "source": [
    "# load model"
   ]
  },
  {
   "cell_type": "code",
   "execution_count": 7,
   "metadata": {},
   "outputs": [],
   "source": [
    "# create model\n",
    "base_model_front = EfficientNetB0(include_top=False, input_shape=(224, 224, 3))\n",
    "base_model_front._name = 'EfficientNetB0_front'\n",
    "\n",
    "\n",
    "model_front = tf.keras.Sequential([\n",
    "    base_model_front,\n",
    "    tf.keras.layers.GlobalAveragePooling2D(),\n",
    "    tf.keras.layers.Dense(1)\n",
    "])\n",
    "\n",
    "for layer in base_model_front.layers:\n",
    "    layer._name = layer.name + \"_front\"\n",
    "\n",
    "for layer in model_front.layers:\n",
    "    layer._name = layer.name + \"_front\"\n",
    "\n",
    "model_front.input._name = model_front.input.name + \"_front\""
   ]
  },
  {
   "cell_type": "code",
   "execution_count": 8,
   "metadata": {},
   "outputs": [],
   "source": [
    "# create model\n",
    "base_model_side = EfficientNetB0(include_top=False, input_shape=(224, 224, 3))\n",
    "base_model_side._name = 'EfficientNetB0_side'\n",
    "\n",
    "\n",
    "model_side = tf.keras.Sequential([\n",
    "    base_model_side,\n",
    "    tf.keras.layers.GlobalAveragePooling2D(),\n",
    "    tf.keras.layers.Dense(1)\n",
    "])\n",
    "\n",
    "for layer in base_model_side.layers:\n",
    "    layer._name = layer.name + \"_side\"\n",
    "\n",
    "for layer in model_side.layers:\n",
    "    layer._name = layer.name + \"_side\"\n",
    "\n",
    "model_side.input._name = model_side.input.name + \"_side\""
   ]
  },
  {
   "cell_type": "code",
   "execution_count": 9,
   "metadata": {},
   "outputs": [],
   "source": [
    "model_structured = tf.keras.Sequential([\n",
    "    tf.keras.layers.Input(shape=(10)),\n",
    "    tf.keras.layers.BatchNormalization(),\n",
    "    tf.keras.layers.Dense(64, activation='relu'),\n",
    "    tf.keras.layers.BatchNormalization(),\n",
    "    tf.keras.layers.Dense(32, activation='relu'),\n",
    "    tf.keras.layers.BatchNormalization(),\n",
    "    tf.keras.layers.Dense(16, activation='relu'),\n",
    "    tf.keras.layers.BatchNormalization(),\n",
    "    tf.keras.layers.Dense(1)\n",
    "])\n",
    "\n",
    "for layer in model_structured.layers:\n",
    "    layer._name = layer.name + \"_structured\""
   ]
  },
  {
   "cell_type": "code",
   "execution_count": 10,
   "metadata": {},
   "outputs": [],
   "source": [
    "_x = tf.keras.layers.concatenate([model_front.layers[-2].output, model_side.layers[-2].output, model_structured.layers[-3].output])\n",
    "top_model = tf.keras.Sequential([\n",
    "    tf.keras.layers.BatchNormalization(),\n",
    "    tf.keras.layers.Dense(64, activation='relu'),\n",
    "    tf.keras.layers.BatchNormalization(),\n",
    "    tf.keras.layers.Dense(32, activation='relu'),\n",
    "    tf.keras.layers.BatchNormalization(),\n",
    "    tf.keras.layers.Dense(16, activation='relu'),\n",
    "    tf.keras.layers.BatchNormalization(),\n",
    "    tf.keras.layers.Dense(1)\n",
    "])\n",
    "_x = top_model(_x)"
   ]
  },
  {
   "cell_type": "code",
   "execution_count": 11,
   "metadata": {},
   "outputs": [],
   "source": [
    "model = tf.keras.Model(inputs=[model_front.input, model_side.input, model_structured.input], outputs=_x)"
   ]
  },
  {
   "cell_type": "code",
   "execution_count": 12,
   "metadata": {},
   "outputs": [
    {
     "data": {
      "text/plain": [
       "<tensorflow.python.checkpoint.checkpoint.CheckpointLoadStatus at 0x1bece6b1ed0>"
      ]
     },
     "execution_count": 12,
     "metadata": {},
     "output_type": "execute_result"
    }
   ],
   "source": [
    "model.load_weights('models/ensemble_asian-v1-1')"
   ]
  },
  {
   "cell_type": "code",
   "execution_count": 14,
   "metadata": {},
   "outputs": [],
   "source": [
    "model.compile(loss='mse', metrics=['mae'])"
   ]
  },
  {
   "cell_type": "code",
   "execution_count": null,
   "metadata": {},
   "outputs": [],
   "source": []
  },
  {
   "cell_type": "markdown",
   "metadata": {},
   "source": [
    "# take image and make input data"
   ]
  },
  {
   "cell_type": "code",
   "execution_count": 15,
   "metadata": {},
   "outputs": [],
   "source": [
    "import cv2"
   ]
  },
  {
   "cell_type": "code",
   "execution_count": 16,
   "metadata": {},
   "outputs": [
    {
     "name": "stdout",
     "output_type": "stream",
     "text": [
      "front photo taken\n",
      "front photo taken\n",
      "side photo taken\n"
     ]
    }
   ],
   "source": [
    "# take front photo with camera\n",
    "cap = cv2.VideoCapture(0)\n",
    "\n",
    "front = None\n",
    "side = None\n",
    "\n",
    "while True:\n",
    "    ret, frame = cap.read()\n",
    "    cv2.imshow('frame', frame)\n",
    "    # if the 'f' key is pressed, save the front photo to a variable\n",
    "    if cv2.waitKey(1) & 0xFF == ord('f'):\n",
    "        print('front photo taken')\n",
    "        front = frame\n",
    "    # if the 's' key is pressed, save the side photo to a variable\n",
    "    if cv2.waitKey(1) & 0xFF == ord('s'):\n",
    "        print('side photo taken')\n",
    "        side = frame\n",
    "    if front is not None and side is not None:\n",
    "        break\n",
    "    if cv2.waitKey(1) & 0xFF == ord('q'):\n",
    "        break"
   ]
  },
  {
   "cell_type": "code",
   "execution_count": 17,
   "metadata": {},
   "outputs": [],
   "source": [
    "# close all windows\n",
    "cap.release()\n",
    "cv2.destroyAllWindows()"
   ]
  },
  {
   "cell_type": "code",
   "execution_count": 18,
   "metadata": {},
   "outputs": [],
   "source": [
    "#  #   Column              Non-Null Count  Dtype  \n",
    "# ---  ------              --------------  -----  \n",
    "#  0   ID                  69657 non-null  object \n",
    "#  1   Height_cm           69657 non-null  float64\n",
    "#  2   Weight_kg           69657 non-null  float64\n",
    "#  3   Sex_Female          69657 non-null  bool   \n",
    "#  4   Sex_Male            69657 non-null  bool   \n",
    "#  5   Race_Amer Indian    69657 non-null  bool   \n",
    "#  6   Race_Asian          69657 non-null  bool   \n",
    "#  7   Race_Bi-Racial      69657 non-null  bool   \n",
    "#  8   Race_Black          69657 non-null  bool   \n",
    "#  9   Race_Hispanic       69657 non-null  bool   \n",
    "#  10  Race_Not Available  69657 non-null  bool   \n",
    "#  11  Race_White          69657 non-null  bool "
   ]
  },
  {
   "cell_type": "code",
   "execution_count": 23,
   "metadata": {},
   "outputs": [],
   "source": [
    "# make predictions\n",
    "front = cv2.resize(front, (224, 224))\n",
    "side = cv2.resize(side, (224, 224))\n",
    "\n",
    "front = cv2.cvtColor(front, cv2.COLOR_BGR2RGB)\n",
    "side = cv2.cvtColor(side, cv2.COLOR_BGR2RGB)\n",
    "\n",
    "columns = ['Height_cm', 'Sex_Female', 'Sex_Male', 'Race_Amer Indian', 'Race_Asian',\n",
    "           'Race_Bi-Racial', 'Race_Black', 'Race_Hispanic', 'Race_Not Available', 'Race_White']\n",
    "sample_df = pd.DataFrame([[171,0,1,0,1,0,0,0,0,0]], columns=columns)"
   ]
  },
  {
   "cell_type": "code",
   "execution_count": 24,
   "metadata": {},
   "outputs": [
    {
     "data": {
      "text/html": [
       "<div>\n",
       "<style scoped>\n",
       "    .dataframe tbody tr th:only-of-type {\n",
       "        vertical-align: middle;\n",
       "    }\n",
       "\n",
       "    .dataframe tbody tr th {\n",
       "        vertical-align: top;\n",
       "    }\n",
       "\n",
       "    .dataframe thead th {\n",
       "        text-align: right;\n",
       "    }\n",
       "</style>\n",
       "<table border=\"1\" class=\"dataframe\">\n",
       "  <thead>\n",
       "    <tr style=\"text-align: right;\">\n",
       "      <th></th>\n",
       "      <th>Height_cm</th>\n",
       "      <th>Sex_Female</th>\n",
       "      <th>Sex_Male</th>\n",
       "      <th>Race_Amer Indian</th>\n",
       "      <th>Race_Asian</th>\n",
       "      <th>Race_Bi-Racial</th>\n",
       "      <th>Race_Black</th>\n",
       "      <th>Race_Hispanic</th>\n",
       "      <th>Race_Not Available</th>\n",
       "      <th>Race_White</th>\n",
       "    </tr>\n",
       "  </thead>\n",
       "  <tbody>\n",
       "    <tr>\n",
       "      <th>0</th>\n",
       "      <td>171</td>\n",
       "      <td>0</td>\n",
       "      <td>1</td>\n",
       "      <td>0</td>\n",
       "      <td>1</td>\n",
       "      <td>0</td>\n",
       "      <td>0</td>\n",
       "      <td>0</td>\n",
       "      <td>0</td>\n",
       "      <td>0</td>\n",
       "    </tr>\n",
       "  </tbody>\n",
       "</table>\n",
       "</div>"
      ],
      "text/plain": [
       "   Height_cm  Sex_Female  Sex_Male  Race_Amer Indian  Race_Asian  \\\n",
       "0        171           0         1                 0           1   \n",
       "\n",
       "   Race_Bi-Racial  Race_Black  Race_Hispanic  Race_Not Available  Race_White  \n",
       "0               0           0              0                   0           0  "
      ]
     },
     "execution_count": 24,
     "metadata": {},
     "output_type": "execute_result"
    }
   ],
   "source": [
    "sample_df"
   ]
  },
  {
   "cell_type": "code",
   "execution_count": 25,
   "metadata": {},
   "outputs": [
    {
     "name": "stdout",
     "output_type": "stream",
     "text": [
      "1/1 [==============================] - 0s 121ms/step\n"
     ]
    }
   ],
   "source": [
    "x = (np.expand_dims(front, 0), np.expand_dims(side, 0), tf.constant(\n",
    "    sample_df.values, dtype=tf.float32))\n",
    "\n",
    "y = model.predict(x)"
   ]
  },
  {
   "cell_type": "code",
   "execution_count": 26,
   "metadata": {},
   "outputs": [
    {
     "data": {
      "text/plain": [
       "array([[64.70343]], dtype=float32)"
      ]
     },
     "execution_count": 26,
     "metadata": {},
     "output_type": "execute_result"
    }
   ],
   "source": [
    "y"
   ]
  },
  {
   "cell_type": "code",
   "execution_count": null,
   "metadata": {},
   "outputs": [],
   "source": []
  }
 ],
 "metadata": {
  "kernelspec": {
   "display_name": "Python 3 (ipykernel)",
   "language": "python",
   "name": "python3"
  },
  "language_info": {
   "codemirror_mode": {
    "name": "ipython",
    "version": 3
   },
   "file_extension": ".py",
   "mimetype": "text/x-python",
   "name": "python",
   "nbconvert_exporter": "python",
   "pygments_lexer": "ipython3",
   "version": "3.11.3"
  }
 },
 "nbformat": 4,
 "nbformat_minor": 2
}
