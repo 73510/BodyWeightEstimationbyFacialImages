{
 "cells": [
  {
   "cell_type": "code",
   "execution_count": 1,
   "metadata": {},
   "outputs": [],
   "source": [
    "import numpy as np\n",
    "import matplotlib.pyplot as plt\n",
    "import pandas as pd\n",
    "import seaborn as sns"
   ]
  },
  {
   "cell_type": "code",
   "execution_count": 2,
   "metadata": {},
   "outputs": [],
   "source": [
    "import os\n",
    "os.environ[\"CUDA_VISIBLE_DEVICES\"] = \"1\"\n",
    "os.environ[\"TF_CPP_MIN_LOG_LEVEL\"] = \"1\""
   ]
  },
  {
   "cell_type": "code",
   "execution_count": 3,
   "metadata": {},
   "outputs": [
    {
     "name": "stderr",
     "output_type": "stream",
     "text": [
      "2024-06-08 19:52:15.987528: E tensorflow/stream_executor/cuda/cuda_blas.cc:2981] Unable to register cuBLAS factory: Attempting to register factory for plugin cuBLAS when one has already been registered\n",
      "2024-06-08 19:52:16.704738: W tensorflow/stream_executor/platform/default/dso_loader.cc:64] Could not load dynamic library 'libnvinfer.so.7'; dlerror: libnvinfer.so.7: cannot open shared object file: No such file or directory; LD_LIBRARY_PATH: :/home/yw/miniconda3/envs/tf/lib/\n",
      "2024-06-08 19:52:16.704852: W tensorflow/stream_executor/platform/default/dso_loader.cc:64] Could not load dynamic library 'libnvinfer_plugin.so.7'; dlerror: libnvinfer_plugin.so.7: cannot open shared object file: No such file or directory; LD_LIBRARY_PATH: :/home/yw/miniconda3/envs/tf/lib/\n",
      "2024-06-08 19:52:16.704860: W tensorflow/compiler/tf2tensorrt/utils/py_utils.cc:38] TF-TRT Warning: Cannot dlopen some TensorRT libraries. If you would like to use Nvidia GPU with TensorRT, please make sure the missing libraries mentioned above are installed properly.\n"
     ]
    }
   ],
   "source": [
    "import tensorflow as tf"
   ]
  },
  {
   "cell_type": "code",
   "execution_count": 4,
   "metadata": {},
   "outputs": [],
   "source": [
    "import tensorflow.keras.backend as K"
   ]
  },
  {
   "cell_type": "code",
   "execution_count": 5,
   "metadata": {},
   "outputs": [],
   "source": [
    "from tensorflow.keras.applications import EfficientNetB0\n",
    "from tensorflow.keras.applications.efficientnet import preprocess_input\n",
    "import matplotlib.pyplot as plt"
   ]
  },
  {
   "cell_type": "code",
   "execution_count": 6,
   "metadata": {},
   "outputs": [],
   "source": [
    "gpus = tf.config.experimental.list_physical_devices('GPU')\n",
    "if gpus:\n",
    "  try:\n",
    "    tf.config.experimental.set_virtual_device_configuration(gpus[0], [tf.config.experimental.VirtualDeviceConfiguration(memory_limit=1024*6)])\n",
    "  except RuntimeError as e:\n",
    "    print(e)"
   ]
  },
  {
   "cell_type": "code",
   "execution_count": 7,
   "metadata": {},
   "outputs": [],
   "source": [
    "df = pd.read_csv('edge_images/preprocessed.csv')"
   ]
  },
  {
   "cell_type": "markdown",
   "metadata": {},
   "source": [
    "# preprocessing"
   ]
  },
  {
   "cell_type": "code",
   "execution_count": 8,
   "metadata": {},
   "outputs": [
    {
     "name": "stdout",
     "output_type": "stream",
     "text": [
      "<class 'pandas.core.frame.DataFrame'>\n",
      "RangeIndex: 53416 entries, 0 to 53415\n",
      "Data columns (total 11 columns):\n",
      " #   Column        Non-Null Count  Dtype  \n",
      "---  ------        --------------  -----  \n",
      " 0   ID            53416 non-null  object \n",
      " 1   Sex           53416 non-null  object \n",
      " 2   Height        53416 non-null  object \n",
      " 3   Weight        53416 non-null  object \n",
      " 4   Hair          53416 non-null  object \n",
      " 5   Eyes          53416 non-null  object \n",
      " 6   Race          53416 non-null  object \n",
      " 7   Sex Offender  53416 non-null  bool   \n",
      " 8   Offense       53416 non-null  object \n",
      " 9   Height_cm     53416 non-null  float64\n",
      " 10  Weight_kg     53416 non-null  float64\n",
      "dtypes: bool(1), float64(2), object(8)\n",
      "memory usage: 4.1+ MB\n"
     ]
    }
   ],
   "source": [
    "df.info()"
   ]
  },
  {
   "cell_type": "code",
   "execution_count": 9,
   "metadata": {},
   "outputs": [],
   "source": [
    "df.drop(columns=['Height', 'Weight', 'Sex Offender', 'Offense', 'Hair', 'Eyes'], inplace=True)"
   ]
  },
  {
   "cell_type": "code",
   "execution_count": 10,
   "metadata": {},
   "outputs": [
    {
     "name": "stdout",
     "output_type": "stream",
     "text": [
      "<class 'pandas.core.frame.DataFrame'>\n",
      "RangeIndex: 53416 entries, 0 to 53415\n",
      "Data columns (total 5 columns):\n",
      " #   Column     Non-Null Count  Dtype  \n",
      "---  ------     --------------  -----  \n",
      " 0   ID         53416 non-null  object \n",
      " 1   Sex        53416 non-null  object \n",
      " 2   Race       53416 non-null  object \n",
      " 3   Height_cm  53416 non-null  float64\n",
      " 4   Weight_kg  53416 non-null  float64\n",
      "dtypes: float64(2), object(3)\n",
      "memory usage: 2.0+ MB\n"
     ]
    }
   ],
   "source": [
    "df.info()"
   ]
  },
  {
   "cell_type": "code",
   "execution_count": 11,
   "metadata": {},
   "outputs": [],
   "source": [
    "data = pd.get_dummies(df, columns=['Sex', 'Race'])\n",
    "data = data.drop(columns=['ID'])"
   ]
  },
  {
   "cell_type": "code",
   "execution_count": 12,
   "metadata": {},
   "outputs": [
    {
     "name": "stdout",
     "output_type": "stream",
     "text": [
      "<class 'pandas.core.frame.DataFrame'>\n",
      "RangeIndex: 53416 entries, 0 to 53415\n",
      "Data columns (total 11 columns):\n",
      " #   Column              Non-Null Count  Dtype  \n",
      "---  ------              --------------  -----  \n",
      " 0   Height_cm           53416 non-null  float64\n",
      " 1   Weight_kg           53416 non-null  float64\n",
      " 2   Sex_Female          53416 non-null  bool   \n",
      " 3   Sex_Male            53416 non-null  bool   \n",
      " 4   Race_Amer Indian    53416 non-null  bool   \n",
      " 5   Race_Asian          53416 non-null  bool   \n",
      " 6   Race_Bi-Racial      53416 non-null  bool   \n",
      " 7   Race_Black          53416 non-null  bool   \n",
      " 8   Race_Hispanic       53416 non-null  bool   \n",
      " 9   Race_Not Available  53416 non-null  bool   \n",
      " 10  Race_White          53416 non-null  bool   \n",
      "dtypes: bool(9), float64(2)\n",
      "memory usage: 1.3 MB\n"
     ]
    }
   ],
   "source": [
    "data.info()"
   ]
  },
  {
   "cell_type": "code",
   "execution_count": 13,
   "metadata": {},
   "outputs": [],
   "source": [
    "train_data = data[:int(0.8*len(data))]\n",
    "val_data = data[int(0.1*len(data)):]\n",
    "test_data = data[int(0.1*len(data)):]\n",
    "\n",
    "train_data = train_data[~train_data['Race_Not Available']]\n",
    "val_data = val_data[~val_data['Race_Not Available']]\n",
    "test_data = test_data[~test_data['Race_Not Available']]\n",
    "\n",
    "# convert to tuple\n",
    "train_data = (tf.constant(train_data.drop(columns=['Weight_kg']).values, dtype=tf.float32), train_data['Weight_kg'].values)\n",
    "val_data = (tf.constant(val_data.drop(columns=['Weight_kg']).values, dtype=tf.float32), val_data['Weight_kg'].values)\n",
    "test_data = (tf.constant(test_data.drop(columns=['Weight_kg']).values, dtype=tf.float32), test_data['Weight_kg'].values)"
   ]
  },
  {
   "cell_type": "code",
   "execution_count": 14,
   "metadata": {},
   "outputs": [
    {
     "data": {
      "text/plain": [
       "TensorShape([42708, 10])"
      ]
     },
     "execution_count": 14,
     "metadata": {},
     "output_type": "execute_result"
    }
   ],
   "source": [
    "train_data[0].shape"
   ]
  },
  {
   "cell_type": "code",
   "execution_count": 15,
   "metadata": {},
   "outputs": [],
   "source": [
    "BATCH_SIZE = 128\n",
    "train_set = tf.data.Dataset.from_tensor_slices(train_data).shuffle(10000).batch(BATCH_SIZE, drop_remainder=True).prefetch(1)\n",
    "val_set = tf.data.Dataset.from_tensor_slices(val_data).shuffle(10000).batch(BATCH_SIZE, drop_remainder=True).prefetch(1)\n",
    "test_set = tf.data.Dataset.from_tensor_slices(test_data).shuffle(10000).batch(BATCH_SIZE, drop_remainder=True).prefetch(1)"
   ]
  },
  {
   "cell_type": "code",
   "execution_count": 16,
   "metadata": {},
   "outputs": [],
   "source": [
    "early_stopping = tf.keras.callbacks.EarlyStopping(patience=5, restore_best_weights=True)"
   ]
  },
  {
   "cell_type": "markdown",
   "metadata": {},
   "source": [
    "# model 1"
   ]
  },
  {
   "cell_type": "code",
   "execution_count": 16,
   "metadata": {},
   "outputs": [
    {
     "name": "stdout",
     "output_type": "stream",
     "text": [
      "Model: \"sequential\"\n",
      "_________________________________________________________________\n",
      " Layer (type)                Output Shape              Param #   \n",
      "=================================================================\n",
      " batch_normalization (BatchN  (None, 10)               40        \n",
      " ormalization)                                                   \n",
      "                                                                 \n",
      " dense (Dense)               (None, 256)               2816      \n",
      "                                                                 \n",
      " batch_normalization_1 (Batc  (None, 256)              1024      \n",
      " hNormalization)                                                 \n",
      "                                                                 \n",
      " dense_1 (Dense)             (None, 128)               32896     \n",
      "                                                                 \n",
      " batch_normalization_2 (Batc  (None, 128)              512       \n",
      " hNormalization)                                                 \n",
      "                                                                 \n",
      " dense_2 (Dense)             (None, 64)                8256      \n",
      "                                                                 \n",
      " batch_normalization_3 (Batc  (None, 64)               256       \n",
      " hNormalization)                                                 \n",
      "                                                                 \n",
      " dense_3 (Dense)             (None, 1)                 65        \n",
      "                                                                 \n",
      "=================================================================\n",
      "Total params: 45,865\n",
      "Trainable params: 44,949\n",
      "Non-trainable params: 916\n",
      "_________________________________________________________________\n"
     ]
    }
   ],
   "source": [
    "model = tf.keras.Sequential([\n",
    "    tf.keras.layers.Input(shape=(train_data[0].shape[1:])),\n",
    "    tf.keras.layers.BatchNormalization(),\n",
    "    tf.keras.layers.Dense(256, activation='relu'),\n",
    "    tf.keras.layers.BatchNormalization(),\n",
    "    tf.keras.layers.Dense(128, activation='relu'),\n",
    "    tf.keras.layers.BatchNormalization(),\n",
    "    tf.keras.layers.Dense(64, activation='relu'),\n",
    "    tf.keras.layers.BatchNormalization(),\n",
    "    tf.keras.layers.Dense(1)\n",
    "])\n",
    "\n",
    "model.compile(optimizer='adam', loss='mean_squared_error', metrics=['mean_absolute_error'])\n",
    "model.summary()"
   ]
  },
  {
   "cell_type": "code",
   "execution_count": 18,
   "metadata": {},
   "outputs": [
    {
     "name": "stdout",
     "output_type": "stream",
     "text": [
      "Epoch 1/50\n"
     ]
    },
    {
     "name": "stdout",
     "output_type": "stream",
     "text": [
      "435/435 [==============================] - 6s 10ms/step - loss: 6245.8594 - mean_absolute_error: 76.8309 - val_loss: 3326.9800 - val_mean_absolute_error: 55.3854\n",
      "Epoch 2/50\n",
      "435/435 [==============================] - 4s 10ms/step - loss: 1580.1606 - mean_absolute_error: 33.7807 - val_loss: 394.9867 - val_mean_absolute_error: 14.5852\n",
      "Epoch 3/50\n",
      "435/435 [==============================] - 4s 10ms/step - loss: 289.5587 - mean_absolute_error: 12.6323 - val_loss: 262.5794 - val_mean_absolute_error: 12.2015\n",
      "Epoch 4/50\n",
      "435/435 [==============================] - 4s 10ms/step - loss: 254.4687 - mean_absolute_error: 12.1430 - val_loss: 258.1283 - val_mean_absolute_error: 12.1634\n",
      "Epoch 5/50\n",
      "435/435 [==============================] - 4s 10ms/step - loss: 253.6714 - mean_absolute_error: 12.1401 - val_loss: 256.0703 - val_mean_absolute_error: 12.2532\n",
      "Epoch 6/50\n",
      "435/435 [==============================] - 5s 10ms/step - loss: 253.3806 - mean_absolute_error: 12.1340 - val_loss: 256.5197 - val_mean_absolute_error: 12.1607\n",
      "Epoch 7/50\n",
      "435/435 [==============================] - 4s 10ms/step - loss: 253.1521 - mean_absolute_error: 12.1336 - val_loss: 256.8832 - val_mean_absolute_error: 12.1120\n",
      "Epoch 8/50\n",
      "435/435 [==============================] - 4s 10ms/step - loss: 253.0759 - mean_absolute_error: 12.1163 - val_loss: 255.2465 - val_mean_absolute_error: 12.0939\n",
      "Epoch 9/50\n",
      "435/435 [==============================] - 4s 9ms/step - loss: 252.7435 - mean_absolute_error: 12.1111 - val_loss: 255.7271 - val_mean_absolute_error: 12.1286\n",
      "Epoch 10/50\n",
      "435/435 [==============================] - 4s 10ms/step - loss: 252.4212 - mean_absolute_error: 12.1133 - val_loss: 254.8869 - val_mean_absolute_error: 12.1233\n",
      "Epoch 11/50\n",
      "435/435 [==============================] - 4s 10ms/step - loss: 252.4724 - mean_absolute_error: 12.1033 - val_loss: 255.1092 - val_mean_absolute_error: 12.1571\n",
      "Epoch 12/50\n",
      "435/435 [==============================] - 4s 10ms/step - loss: 251.8696 - mean_absolute_error: 12.0851 - val_loss: 256.1849 - val_mean_absolute_error: 12.1323\n",
      "Epoch 13/50\n",
      "435/435 [==============================] - 4s 10ms/step - loss: 251.9347 - mean_absolute_error: 12.0933 - val_loss: 255.8590 - val_mean_absolute_error: 12.1206\n",
      "Epoch 14/50\n",
      "435/435 [==============================] - 4s 10ms/step - loss: 252.1888 - mean_absolute_error: 12.1013 - val_loss: 255.0686 - val_mean_absolute_error: 12.0645\n",
      "Epoch 15/50\n",
      "435/435 [==============================] - 4s 10ms/step - loss: 251.7221 - mean_absolute_error: 12.0865 - val_loss: 255.6020 - val_mean_absolute_error: 12.0670\n"
     ]
    }
   ],
   "source": [
    "history = model.fit(train_set, epochs=50, validation_data=val_set, callbacks=[early_stopping])"
   ]
  },
  {
   "cell_type": "code",
   "execution_count": 19,
   "metadata": {},
   "outputs": [
    {
     "data": {
      "text/plain": [
       "dict_keys(['loss', 'mean_absolute_error', 'val_loss', 'val_mean_absolute_error'])"
      ]
     },
     "execution_count": 19,
     "metadata": {},
     "output_type": "execute_result"
    }
   ],
   "source": [
    "history.history.keys()"
   ]
  },
  {
   "cell_type": "code",
   "execution_count": 20,
   "metadata": {},
   "outputs": [],
   "source": [
    "def modelplot(history, data, val_data):\n",
    "    plt.plot(history.history[data])\n",
    "    plt.plot(history.history[val_data])\n",
    "    plt.title('Model'+ data)\n",
    "    plt.ylabel(data)\n",
    "    plt.xlabel('epoch')\n",
    "    plt.legend(['train', 'test'])\n",
    "    plt.show()\n",
    "\n"
   ]
  },
  {
   "cell_type": "code",
   "execution_count": 21,
   "metadata": {},
   "outputs": [
    {
     "data": {
      "image/png": "[encoded data removed]",
      "text/plain": [
       "<Figure size 640x480 with 1 Axes>"
      ]
     },
     "metadata": {},
     "output_type": "display_data"
    }
   ],
   "source": [
    "modelplot(history, 'loss', 'val_loss')"
   ]
  },
  {
   "cell_type": "code",
   "execution_count": 22,
   "metadata": {},
   "outputs": [
    {
     "data": {
      "image/png": "[encoded data removed]",
      "text/plain": [
       "<Figure size 640x480 with 1 Axes>"
      ]
     },
     "metadata": {},
     "output_type": "display_data"
    }
   ],
   "source": [
    "modelplot(history, 'mean_absolute_error', 'val_mean_absolute_error')"
   ]
  },
  {
   "cell_type": "code",
   "execution_count": 23,
   "metadata": {},
   "outputs": [
    {
     "name": "stdout",
     "output_type": "stream",
     "text": [
      "489/489 [==============================] - 2s 3ms/step - loss: 254.8607 - mean_absolute_error: 12.1221\n"
     ]
    },
    {
     "data": {
      "text/plain": [
       "[254.8606719970703, 12.122122764587402]"
      ]
     },
     "execution_count": 23,
     "metadata": {},
     "output_type": "execute_result"
    }
   ],
   "source": [
    "model.evaluate(test_set)"
   ]
  },
  {
   "cell_type": "code",
   "execution_count": 24,
   "metadata": {},
   "outputs": [],
   "source": [
    "model.save_weights('models/structured data model-v1')"
   ]
  },
  {
   "cell_type": "code",
   "execution_count": null,
   "metadata": {},
   "outputs": [],
   "source": []
  },
  {
   "cell_type": "markdown",
   "metadata": {},
   "source": [
    "# model 2"
   ]
  },
  {
   "cell_type": "code",
   "execution_count": 17,
   "metadata": {},
   "outputs": [
    {
     "name": "stdout",
     "output_type": "stream",
     "text": [
      "Model: \"sequential\"\n",
      "_________________________________________________________________\n",
      " Layer (type)                Output Shape              Param #   \n",
      "=================================================================\n",
      " batch_normalization (BatchN  (None, 10)               40        \n",
      " ormalization)                                                   \n",
      "                                                                 \n",
      " dense (Dense)               (None, 128)               1408      \n",
      "                                                                 \n",
      " batch_normalization_1 (Batc  (None, 128)              512       \n",
      " hNormalization)                                                 \n",
      "                                                                 \n",
      " dense_1 (Dense)             (None, 64)                8256      \n",
      "                                                                 \n",
      " batch_normalization_2 (Batc  (None, 64)               256       \n",
      " hNormalization)                                                 \n",
      "                                                                 \n",
      " dense_2 (Dense)             (None, 1)                 65        \n",
      "                                                                 \n",
      "=================================================================\n",
      "Total params: 10,537\n",
      "Trainable params: 10,133\n",
      "Non-trainable params: 404\n",
      "_________________________________________________________________\n"
     ]
    }
   ],
   "source": [
    "model = tf.keras.Sequential([\n",
    "    tf.keras.layers.Input(shape=(train_data[0].shape[1:])),\n",
    "    tf.keras.layers.BatchNormalization(),\n",
    "    tf.keras.layers.Dense(128, activation='relu'),\n",
    "    tf.keras.layers.BatchNormalization(),\n",
    "    tf.keras.layers.Dense(64, activation='relu'),\n",
    "    tf.keras.layers.BatchNormalization(),\n",
    "    tf.keras.layers.Dense(1)\n",
    "])\n",
    "\n",
    "model.compile(optimizer='adam', loss='mean_squared_error', metrics=['mean_absolute_error'])\n",
    "model.summary()"
   ]
  },
  {
   "cell_type": "code",
   "execution_count": 18,
   "metadata": {},
   "outputs": [
    {
     "name": "stdout",
     "output_type": "stream",
     "text": [
      "Epoch 1/50\n"
     ]
    },
    {
     "name": "stdout",
     "output_type": "stream",
     "text": [
      "435/435 [==============================] - 5s 9ms/step - loss: 6259.3442 - mean_absolute_error: 76.9138 - val_loss: 3364.5530 - val_mean_absolute_error: 55.7366\n",
      "Epoch 2/50\n",
      "435/435 [==============================] - 4s 9ms/step - loss: 1588.4944 - mean_absolute_error: 33.8966 - val_loss: 398.7405 - val_mean_absolute_error: 14.6791\n",
      "Epoch 3/50\n",
      "435/435 [==============================] - 4s 9ms/step - loss: 289.6026 - mean_absolute_error: 12.6341 - val_loss: 256.9685 - val_mean_absolute_error: 12.2094\n",
      "Epoch 4/50\n",
      "435/435 [==============================] - 4s 9ms/step - loss: 254.1568 - mean_absolute_error: 12.1474 - val_loss: 257.7486 - val_mean_absolute_error: 12.1420\n",
      "Epoch 5/50\n",
      "435/435 [==============================] - 4s 9ms/step - loss: 254.2974 - mean_absolute_error: 12.1591 - val_loss: 256.2666 - val_mean_absolute_error: 12.1750\n",
      "Epoch 6/50\n",
      "435/435 [==============================] - 4s 9ms/step - loss: 253.2831 - mean_absolute_error: 12.1271 - val_loss: 256.0013 - val_mean_absolute_error: 12.1897\n",
      "Epoch 7/50\n",
      "435/435 [==============================] - 4s 9ms/step - loss: 252.8714 - mean_absolute_error: 12.1276 - val_loss: 255.2899 - val_mean_absolute_error: 12.1042\n",
      "Epoch 8/50\n",
      "435/435 [==============================] - 4s 9ms/step - loss: 252.8872 - mean_absolute_error: 12.1130 - val_loss: 255.3768 - val_mean_absolute_error: 12.1274\n",
      "Epoch 9/50\n",
      "435/435 [==============================] - 4s 9ms/step - loss: 252.6413 - mean_absolute_error: 12.1073 - val_loss: 255.9182 - val_mean_absolute_error: 12.1222\n",
      "Epoch 10/50\n",
      "435/435 [==============================] - 4s 9ms/step - loss: 252.6511 - mean_absolute_error: 12.1098 - val_loss: 255.1204 - val_mean_absolute_error: 12.1235\n",
      "Epoch 11/50\n",
      "435/435 [==============================] - 4s 9ms/step - loss: 252.3056 - mean_absolute_error: 12.1049 - val_loss: 255.9234 - val_mean_absolute_error: 12.1364\n",
      "Epoch 12/50\n",
      "435/435 [==============================] - 4s 9ms/step - loss: 251.9710 - mean_absolute_error: 12.1030 - val_loss: 256.1412 - val_mean_absolute_error: 12.1145\n",
      "Epoch 13/50\n",
      "435/435 [==============================] - 4s 9ms/step - loss: 252.0559 - mean_absolute_error: 12.0914 - val_loss: 255.7849 - val_mean_absolute_error: 12.1007\n",
      "Epoch 14/50\n",
      "435/435 [==============================] - 4s 9ms/step - loss: 251.9766 - mean_absolute_error: 12.0942 - val_loss: 256.1527 - val_mean_absolute_error: 12.2372\n",
      "Epoch 15/50\n",
      "435/435 [==============================] - 4s 9ms/step - loss: 251.8868 - mean_absolute_error: 12.0866 - val_loss: 256.0540 - val_mean_absolute_error: 12.1530\n"
     ]
    }
   ],
   "source": [
    "history = model.fit(train_set, epochs=50, validation_data=val_set, callbacks=[early_stopping])"
   ]
  },
  {
   "cell_type": "code",
   "execution_count": 19,
   "metadata": {},
   "outputs": [],
   "source": [
    "def modelplot(history, data, val_data):\n",
    "    plt.plot(history.history[data])\n",
    "    plt.plot(history.history[val_data])\n",
    "    plt.title('Model'+ data)\n",
    "    plt.ylabel(data)\n",
    "    plt.xlabel('epoch')\n",
    "    plt.legend(['train', 'test'])\n",
    "    plt.show()"
   ]
  },
  {
   "cell_type": "code",
   "execution_count": 20,
   "metadata": {},
   "outputs": [
    {
     "data": {
      "image/png": "[encoded data removed]",
      "text/plain": [
       "<Figure size 640x480 with 1 Axes>"
      ]
     },
     "metadata": {},
     "output_type": "display_data"
    }
   ],
   "source": [
    "modelplot(history, 'loss', 'val_loss')"
   ]
  },
  {
   "cell_type": "code",
   "execution_count": 21,
   "metadata": {},
   "outputs": [
    {
     "data": {
      "image/png": "[encoded data removed]",
      "text/plain": [
       "<Figure size 640x480 with 1 Axes>"
      ]
     },
     "metadata": {},
     "output_type": "display_data"
    }
   ],
   "source": [
    "modelplot(history, 'mean_absolute_error', 'val_mean_absolute_error')"
   ]
  },
  {
   "cell_type": "code",
   "execution_count": 22,
   "metadata": {},
   "outputs": [
    {
     "name": "stdout",
     "output_type": "stream",
     "text": [
      "105/489 [=====>........................] - ETA: 1s - loss: 249.0161 - mean_absolute_error: 11.9096"
     ]
    },
    {
     "name": "stdout",
     "output_type": "stream",
     "text": [
      "489/489 [==============================] - 2s 3ms/step - loss: 255.1276 - mean_absolute_error: 12.1239\n"
     ]
    },
    {
     "data": {
      "text/plain": [
       "[255.12759399414062, 12.123855590820312]"
      ]
     },
     "execution_count": 22,
     "metadata": {},
     "output_type": "execute_result"
    }
   ],
   "source": [
    "model.evaluate(test_set)"
   ]
  },
  {
   "cell_type": "code",
   "execution_count": 23,
   "metadata": {},
   "outputs": [],
   "source": [
    "model.save_weights('models/structured data model-v2')"
   ]
  },
  {
   "cell_type": "code",
   "execution_count": null,
   "metadata": {},
   "outputs": [],
   "source": []
  },
  {
   "cell_type": "markdown",
   "metadata": {},
   "source": [
    "# model 3"
   ]
  },
  {
   "cell_type": "code",
   "execution_count": 17,
   "metadata": {},
   "outputs": [
    {
     "name": "stdout",
     "output_type": "stream",
     "text": [
      "Model: \"sequential\"\n",
      "_________________________________________________________________\n",
      " Layer (type)                Output Shape              Param #   \n",
      "=================================================================\n",
      " batch_normalization (BatchN  (None, 10)               40        \n",
      " ormalization)                                                   \n",
      "                                                                 \n",
      " dense (Dense)               (None, 64)                704       \n",
      "                                                                 \n",
      " batch_normalization_1 (Batc  (None, 64)               256       \n",
      " hNormalization)                                                 \n",
      "                                                                 \n",
      " dense_1 (Dense)             (None, 32)                2080      \n",
      "                                                                 \n",
      " batch_normalization_2 (Batc  (None, 32)               128       \n",
      " hNormalization)                                                 \n",
      "                                                                 \n",
      " dense_2 (Dense)             (None, 16)                528       \n",
      "                                                                 \n",
      " batch_normalization_3 (Batc  (None, 16)               64        \n",
      " hNormalization)                                                 \n",
      "                                                                 \n",
      " dense_3 (Dense)             (None, 1)                 17        \n",
      "                                                                 \n",
      "=================================================================\n",
      "Total params: 3,817\n",
      "Trainable params: 3,573\n",
      "Non-trainable params: 244\n",
      "_________________________________________________________________\n"
     ]
    }
   ],
   "source": [
    "model = tf.keras.Sequential([\n",
    "    tf.keras.layers.Input(shape=(train_data[0].shape[1:])),\n",
    "    tf.keras.layers.BatchNormalization(),\n",
    "    tf.keras.layers.Dense(64, activation='relu'),\n",
    "    tf.keras.layers.BatchNormalization(),\n",
    "    tf.keras.layers.Dense(32, activation='relu'),\n",
    "    tf.keras.layers.BatchNormalization(),\n",
    "    tf.keras.layers.Dense(16, activation='relu'),\n",
    "    tf.keras.layers.BatchNormalization(),\n",
    "    tf.keras.layers.Dense(1)\n",
    "])\n",
    "\n",
    "model.compile(optimizer='adam', loss='mean_squared_error', metrics=['mean_absolute_error'])\n",
    "model.summary()"
   ]
  },
  {
   "cell_type": "code",
   "execution_count": 18,
   "metadata": {},
   "outputs": [
    {
     "name": "stdout",
     "output_type": "stream",
     "text": [
      "Epoch 1/100\n"
     ]
    },
    {
     "name": "stdout",
     "output_type": "stream",
     "text": [
      "333/333 [==============================] - 5s 11ms/step - loss: 7354.3643 - mean_absolute_error: 84.2753 - val_loss: 5987.9272 - val_mean_absolute_error: 75.7746\n",
      "Epoch 2/100\n",
      "333/333 [==============================] - 3s 10ms/step - loss: 5887.3662 - mean_absolute_error: 74.9899 - val_loss: 4694.8281 - val_mean_absolute_error: 66.6922\n",
      "Epoch 3/100\n",
      "333/333 [==============================] - 3s 9ms/step - loss: 3778.6963 - mean_absolute_error: 59.1454 - val_loss: 2633.2407 - val_mean_absolute_error: 48.8530\n",
      "Epoch 4/100\n",
      "333/333 [==============================] - 3s 9ms/step - loss: 1911.8976 - mean_absolute_error: 40.3733 - val_loss: 1170.2594 - val_mean_absolute_error: 30.4536\n",
      "Epoch 5/100\n",
      "333/333 [==============================] - 3s 10ms/step - loss: 793.7486 - mean_absolute_error: 23.3294 - val_loss: 458.3530 - val_mean_absolute_error: 16.2179\n",
      "Epoch 6/100\n",
      "333/333 [==============================] - 3s 10ms/step - loss: 360.4947 - mean_absolute_error: 13.9915 - val_loss: 270.7023 - val_mean_absolute_error: 11.9590\n",
      "Epoch 7/100\n",
      "333/333 [==============================] - 3s 10ms/step - loss: 258.0690 - mean_absolute_error: 11.8853 - val_loss: 245.1524 - val_mean_absolute_error: 11.7871\n",
      "Epoch 8/100\n",
      "333/333 [==============================] - 3s 10ms/step - loss: 243.8493 - mean_absolute_error: 11.7984 - val_loss: 244.9702 - val_mean_absolute_error: 11.9227\n",
      "Epoch 9/100\n",
      "333/333 [==============================] - 3s 10ms/step - loss: 242.4746 - mean_absolute_error: 11.8424 - val_loss: 244.7832 - val_mean_absolute_error: 11.9878\n",
      "Epoch 10/100\n",
      "333/333 [==============================] - 3s 10ms/step - loss: 242.1915 - mean_absolute_error: 11.8599 - val_loss: 244.0083 - val_mean_absolute_error: 11.9274\n",
      "Epoch 11/100\n",
      "333/333 [==============================] - 3s 10ms/step - loss: 242.6119 - mean_absolute_error: 11.8741 - val_loss: 244.1744 - val_mean_absolute_error: 11.9699\n",
      "Epoch 12/100\n",
      "333/333 [==============================] - 3s 10ms/step - loss: 242.2020 - mean_absolute_error: 11.8609 - val_loss: 243.9429 - val_mean_absolute_error: 11.9234\n",
      "Epoch 13/100\n",
      "333/333 [==============================] - 3s 10ms/step - loss: 242.2192 - mean_absolute_error: 11.8587 - val_loss: 243.8424 - val_mean_absolute_error: 11.9212\n",
      "Epoch 14/100\n",
      "333/333 [==============================] - 3s 10ms/step - loss: 241.9758 - mean_absolute_error: 11.8571 - val_loss: 243.6982 - val_mean_absolute_error: 11.9023\n",
      "Epoch 15/100\n",
      "333/333 [==============================] - 3s 10ms/step - loss: 241.8775 - mean_absolute_error: 11.8505 - val_loss: 243.6496 - val_mean_absolute_error: 11.9104\n",
      "Epoch 16/100\n",
      "333/333 [==============================] - 3s 10ms/step - loss: 241.7549 - mean_absolute_error: 11.8519 - val_loss: 243.7659 - val_mean_absolute_error: 11.9116\n",
      "Epoch 17/100\n",
      "333/333 [==============================] - 3s 10ms/step - loss: 241.8485 - mean_absolute_error: 11.8540 - val_loss: 243.3286 - val_mean_absolute_error: 11.8326\n",
      "Epoch 18/100\n",
      "333/333 [==============================] - 3s 9ms/step - loss: 241.8143 - mean_absolute_error: 11.8454 - val_loss: 244.1246 - val_mean_absolute_error: 11.9235\n",
      "Epoch 19/100\n",
      "333/333 [==============================] - 3s 9ms/step - loss: 241.6004 - mean_absolute_error: 11.8365 - val_loss: 243.5814 - val_mean_absolute_error: 11.8370\n",
      "Epoch 20/100\n",
      "333/333 [==============================] - 3s 9ms/step - loss: 241.6409 - mean_absolute_error: 11.8348 - val_loss: 243.0912 - val_mean_absolute_error: 11.8943\n",
      "Epoch 21/100\n",
      "333/333 [==============================] - 3s 9ms/step - loss: 241.2054 - mean_absolute_error: 11.8421 - val_loss: 243.5925 - val_mean_absolute_error: 11.8340\n",
      "Epoch 22/100\n",
      "333/333 [==============================] - 3s 10ms/step - loss: 241.5825 - mean_absolute_error: 11.8399 - val_loss: 243.2278 - val_mean_absolute_error: 11.8414\n",
      "Epoch 23/100\n",
      "333/333 [==============================] - 3s 9ms/step - loss: 241.7746 - mean_absolute_error: 11.8526 - val_loss: 244.0297 - val_mean_absolute_error: 11.8291\n",
      "Epoch 24/100\n",
      "333/333 [==============================] - 3s 10ms/step - loss: 241.3438 - mean_absolute_error: 11.8331 - val_loss: 243.1296 - val_mean_absolute_error: 11.8288\n",
      "Epoch 25/100\n",
      "333/333 [==============================] - 3s 10ms/step - loss: 241.3148 - mean_absolute_error: 11.8435 - val_loss: 242.9644 - val_mean_absolute_error: 11.8372\n",
      "Epoch 26/100\n",
      "333/333 [==============================] - 3s 10ms/step - loss: 241.5667 - mean_absolute_error: 11.8384 - val_loss: 243.2992 - val_mean_absolute_error: 11.8661\n",
      "Epoch 27/100\n",
      "333/333 [==============================] - 3s 10ms/step - loss: 241.2655 - mean_absolute_error: 11.8374 - val_loss: 243.3077 - val_mean_absolute_error: 11.8229\n",
      "Epoch 28/100\n",
      "333/333 [==============================] - 3s 9ms/step - loss: 241.2593 - mean_absolute_error: 11.8393 - val_loss: 243.6890 - val_mean_absolute_error: 11.8867\n",
      "Epoch 29/100\n",
      "333/333 [==============================] - 3s 10ms/step - loss: 241.1860 - mean_absolute_error: 11.8309 - val_loss: 243.4039 - val_mean_absolute_error: 11.8512\n",
      "Epoch 30/100\n",
      "333/333 [==============================] - 3s 10ms/step - loss: 241.4906 - mean_absolute_error: 11.8437 - val_loss: 243.3094 - val_mean_absolute_error: 11.8353\n"
     ]
    }
   ],
   "source": [
    "history = model.fit(train_set, epochs=100, validation_data=val_set, callbacks=[early_stopping])"
   ]
  },
  {
   "cell_type": "code",
   "execution_count": 19,
   "metadata": {},
   "outputs": [],
   "source": [
    "def modelplot(history, data, val_data):\n",
    "    plt.plot(history.history[data])\n",
    "    plt.plot(history.history[val_data])\n",
    "    plt.title('Model'+ data)\n",
    "    plt.ylabel(data)\n",
    "    plt.xlabel('epoch')\n",
    "    plt.legend(['train', 'test'])\n",
    "    plt.show()"
   ]
  },
  {
   "cell_type": "code",
   "execution_count": 20,
   "metadata": {},
   "outputs": [
    {
     "data": {
      "image/png": "[encoded data removed]",
      "text/plain": [
       "<Figure size 640x480 with 1 Axes>"
      ]
     },
     "metadata": {},
     "output_type": "display_data"
    }
   ],
   "source": [
    "modelplot(history, 'loss', 'val_loss')"
   ]
  },
  {
   "cell_type": "code",
   "execution_count": 21,
   "metadata": {},
   "outputs": [
    {
     "data": {
      "image/png": "[encoded data removed]",
      "text/plain": [
       "<Figure size 640x480 with 1 Axes>"
      ]
     },
     "metadata": {},
     "output_type": "display_data"
    }
   ],
   "source": [
    "modelplot(history, 'mean_absolute_error', 'val_mean_absolute_error')"
   ]
  },
  {
   "cell_type": "code",
   "execution_count": 22,
   "metadata": {},
   "outputs": [
    {
     "name": "stdout",
     "output_type": "stream",
     "text": [
      "  1/375 [..............................] - ETA: 14s - loss: 193.6237 - mean_absolute_error: 10.9304"
     ]
    },
    {
     "name": "stdout",
     "output_type": "stream",
     "text": [
      "375/375 [==============================] - 1s 3ms/step - loss: 243.0356 - mean_absolute_error: 11.8388\n"
     ]
    },
    {
     "data": {
      "text/plain": [
       "[243.03558349609375, 11.838807106018066]"
      ]
     },
     "execution_count": 22,
     "metadata": {},
     "output_type": "execute_result"
    }
   ],
   "source": [
    "model.evaluate(test_set)"
   ]
  },
  {
   "cell_type": "code",
   "execution_count": 23,
   "metadata": {},
   "outputs": [],
   "source": [
    "model.save_weights('models/structured_model')"
   ]
  },
  {
   "cell_type": "markdown",
   "metadata": {},
   "source": [
    "# extra tree regressor"
   ]
  },
  {
   "cell_type": "code",
   "execution_count": 37,
   "metadata": {},
   "outputs": [
    {
     "data": {
      "text/html": [
       "<style>#sk-container-id-1 {\n",
       "  /* Definition of color scheme common for light and dark mode */\n",
       "  --sklearn-color-text: black;\n",
       "  --sklearn-color-line: gray;\n",
       "  /* Definition of color scheme for unfitted estimators */\n",
       "  --sklearn-color-unfitted-level-0: #fff5e6;\n",
       "  --sklearn-color-unfitted-level-1: #f6e4d2;\n",
       "  --sklearn-color-unfitted-level-2: #ffe0b3;\n",
       "  --sklearn-color-unfitted-level-3: chocolate;\n",
       "  /* Definition of color scheme for fitted estimators */\n",
       "  --sklearn-color-fitted-level-0: #f0f8ff;\n",
       "  --sklearn-color-fitted-level-1: #d4ebff;\n",
       "  --sklearn-color-fitted-level-2: #b3dbfd;\n",
       "  --sklearn-color-fitted-level-3: cornflowerblue;\n",
       "\n",
       "  /* Specific color for light theme */\n",
       "  --sklearn-color-text-on-default-background: var(--sg-text-color, var(--theme-code-foreground, var(--jp-content-font-color1, black)));\n",
       "  --sklearn-color-background: var(--sg-background-color, var(--theme-background, var(--jp-layout-color0, white)));\n",
       "  --sklearn-color-border-box: var(--sg-text-color, var(--theme-code-foreground, var(--jp-content-font-color1, black)));\n",
       "  --sklearn-color-icon: #696969;\n",
       "\n",
       "  @media (prefers-color-scheme: dark) {\n",
       "    /* Redefinition of color scheme for dark theme */\n",
       "    --sklearn-color-text-on-default-background: var(--sg-text-color, var(--theme-code-foreground, var(--jp-content-font-color1, white)));\n",
       "    --sklearn-color-background: var(--sg-background-color, var(--theme-background, var(--jp-layout-color0, #111)));\n",
       "    --sklearn-color-border-box: var(--sg-text-color, var(--theme-code-foreground, var(--jp-content-font-color1, white)));\n",
       "    --sklearn-color-icon: #878787;\n",
       "  }\n",
       "}\n",
       "\n",
       "#sk-container-id-1 {\n",
       "  color: var(--sklearn-color-text);\n",
       "}\n",
       "\n",
       "#sk-container-id-1 pre {\n",
       "  padding: 0;\n",
       "}\n",
       "\n",
       "#sk-container-id-1 input.sk-hidden--visually {\n",
       "  border: 0;\n",
       "  clip: rect(1px 1px 1px 1px);\n",
       "  clip: rect(1px, 1px, 1px, 1px);\n",
       "  height: 1px;\n",
       "  margin: -1px;\n",
       "  overflow: hidden;\n",
       "  padding: 0;\n",
       "  position: absolute;\n",
       "  width: 1px;\n",
       "}\n",
       "\n",
       "#sk-container-id-1 div.sk-dashed-wrapped {\n",
       "  border: 1px dashed var(--sklearn-color-line);\n",
       "  margin: 0 0.4em 0.5em 0.4em;\n",
       "  box-sizing: border-box;\n",
       "  padding-bottom: 0.4em;\n",
       "  background-color: var(--sklearn-color-background);\n",
       "}\n",
       "\n",
       "#sk-container-id-1 div.sk-container {\n",
       "  /* jupyter's `normalize.less` sets `[hidden] { display: none; }`\n",
       "     but bootstrap.min.css set `[hidden] { display: none !important; }`\n",
       "     so we also need the `!important` here to be able to override the\n",
       "     default hidden behavior on the sphinx rendered scikit-learn.org.\n",
       "     See: https://github.com/scikit-learn/scikit-learn/issues/21755 */\n",
       "  display: inline-block !important;\n",
       "  position: relative;\n",
       "}\n",
       "\n",
       "#sk-container-id-1 div.sk-text-repr-fallback {\n",
       "  display: none;\n",
       "}\n",
       "\n",
       "div.sk-parallel-item,\n",
       "div.sk-serial,\n",
       "div.sk-item {\n",
       "  /* draw centered vertical line to link estimators */\n",
       "  background-image: linear-gradient(var(--sklearn-color-text-on-default-background), var(--sklearn-color-text-on-default-background));\n",
       "  background-size: 2px 100%;\n",
       "  background-repeat: no-repeat;\n",
       "  background-position: center center;\n",
       "}\n",
       "\n",
       "/* Parallel-specific style estimator block */\n",
       "\n",
       "#sk-container-id-1 div.sk-parallel-item::after {\n",
       "  content: \"\";\n",
       "  width: 100%;\n",
       "  border-bottom: 2px solid var(--sklearn-color-text-on-default-background);\n",
       "  flex-grow: 1;\n",
       "}\n",
       "\n",
       "#sk-container-id-1 div.sk-parallel {\n",
       "  display: flex;\n",
       "  align-items: stretch;\n",
       "  justify-content: center;\n",
       "  background-color: var(--sklearn-color-background);\n",
       "  position: relative;\n",
       "}\n",
       "\n",
       "#sk-container-id-1 div.sk-parallel-item {\n",
       "  display: flex;\n",
       "  flex-direction: column;\n",
       "}\n",
       "\n",
       "#sk-container-id-1 div.sk-parallel-item:first-child::after {\n",
       "  align-self: flex-end;\n",
       "  width: 50%;\n",
       "}\n",
       "\n",
       "#sk-container-id-1 div.sk-parallel-item:last-child::after {\n",
       "  align-self: flex-start;\n",
       "  width: 50%;\n",
       "}\n",
       "\n",
       "#sk-container-id-1 div.sk-parallel-item:only-child::after {\n",
       "  width: 0;\n",
       "}\n",
       "\n",
       "/* Serial-specific style estimator block */\n",
       "\n",
       "#sk-container-id-1 div.sk-serial {\n",
       "  display: flex;\n",
       "  flex-direction: column;\n",
       "  align-items: center;\n",
       "  background-color: var(--sklearn-color-background);\n",
       "  padding-right: 1em;\n",
       "  padding-left: 1em;\n",
       "}\n",
       "\n",
       "\n",
       "/* Toggleable style: style used for estimator/Pipeline/ColumnTransformer box that is\n",
       "clickable and can be expanded/collapsed.\n",
       "- Pipeline and ColumnTransformer use this feature and define the default style\n",
       "- Estimators will overwrite some part of the style using the `sk-estimator` class\n",
       "*/\n",
       "\n",
       "/* Pipeline and ColumnTransformer style (default) */\n",
       "\n",
       "#sk-container-id-1 div.sk-toggleable {\n",
       "  /* Default theme specific background. It is overwritten whether we have a\n",
       "  specific estimator or a Pipeline/ColumnTransformer */\n",
       "  background-color: var(--sklearn-color-background);\n",
       "}\n",
       "\n",
       "/* Toggleable label */\n",
       "#sk-container-id-1 label.sk-toggleable__label {\n",
       "  cursor: pointer;\n",
       "  display: block;\n",
       "  width: 100%;\n",
       "  margin-bottom: 0;\n",
       "  padding: 0.5em;\n",
       "  box-sizing: border-box;\n",
       "  text-align: center;\n",
       "}\n",
       "\n",
       "#sk-container-id-1 label.sk-toggleable__label-arrow:before {\n",
       "  /* Arrow on the left of the label */\n",
       "  content: \"▸\";\n",
       "  float: left;\n",
       "  margin-right: 0.25em;\n",
       "  color: var(--sklearn-color-icon);\n",
       "}\n",
       "\n",
       "#sk-container-id-1 label.sk-toggleable__label-arrow:hover:before {\n",
       "  color: var(--sklearn-color-text);\n",
       "}\n",
       "\n",
       "/* Toggleable content - dropdown */\n",
       "\n",
       "#sk-container-id-1 div.sk-toggleable__content {\n",
       "  max-height: 0;\n",
       "  max-width: 0;\n",
       "  overflow: hidden;\n",
       "  text-align: left;\n",
       "  /* unfitted */\n",
       "  background-color: var(--sklearn-color-unfitted-level-0);\n",
       "}\n",
       "\n",
       "#sk-container-id-1 div.sk-toggleable__content.fitted {\n",
       "  /* fitted */\n",
       "  background-color: var(--sklearn-color-fitted-level-0);\n",
       "}\n",
       "\n",
       "#sk-container-id-1 div.sk-toggleable__content pre {\n",
       "  margin: 0.2em;\n",
       "  border-radius: 0.25em;\n",
       "  color: var(--sklearn-color-text);\n",
       "  /* unfitted */\n",
       "  background-color: var(--sklearn-color-unfitted-level-0);\n",
       "}\n",
       "\n",
       "#sk-container-id-1 div.sk-toggleable__content.fitted pre {\n",
       "  /* unfitted */\n",
       "  background-color: var(--sklearn-color-fitted-level-0);\n",
       "}\n",
       "\n",
       "#sk-container-id-1 input.sk-toggleable__control:checked~div.sk-toggleable__content {\n",
       "  /* Expand drop-down */\n",
       "  max-height: 200px;\n",
       "  max-width: 100%;\n",
       "  overflow: auto;\n",
       "}\n",
       "\n",
       "#sk-container-id-1 input.sk-toggleable__control:checked~label.sk-toggleable__label-arrow:before {\n",
       "  content: \"▾\";\n",
       "}\n",
       "\n",
       "/* Pipeline/ColumnTransformer-specific style */\n",
       "\n",
       "#sk-container-id-1 div.sk-label input.sk-toggleable__control:checked~label.sk-toggleable__label {\n",
       "  color: var(--sklearn-color-text);\n",
       "  background-color: var(--sklearn-color-unfitted-level-2);\n",
       "}\n",
       "\n",
       "#sk-container-id-1 div.sk-label.fitted input.sk-toggleable__control:checked~label.sk-toggleable__label {\n",
       "  background-color: var(--sklearn-color-fitted-level-2);\n",
       "}\n",
       "\n",
       "/* Estimator-specific style */\n",
       "\n",
       "/* Colorize estimator box */\n",
       "#sk-container-id-1 div.sk-estimator input.sk-toggleable__control:checked~label.sk-toggleable__label {\n",
       "  /* unfitted */\n",
       "  background-color: var(--sklearn-color-unfitted-level-2);\n",
       "}\n",
       "\n",
       "#sk-container-id-1 div.sk-estimator.fitted input.sk-toggleable__control:checked~label.sk-toggleable__label {\n",
       "  /* fitted */\n",
       "  background-color: var(--sklearn-color-fitted-level-2);\n",
       "}\n",
       "\n",
       "#sk-container-id-1 div.sk-label label.sk-toggleable__label,\n",
       "#sk-container-id-1 div.sk-label label {\n",
       "  /* The background is the default theme color */\n",
       "  color: var(--sklearn-color-text-on-default-background);\n",
       "}\n",
       "\n",
       "/* On hover, darken the color of the background */\n",
       "#sk-container-id-1 div.sk-label:hover label.sk-toggleable__label {\n",
       "  color: var(--sklearn-color-text);\n",
       "  background-color: var(--sklearn-color-unfitted-level-2);\n",
       "}\n",
       "\n",
       "/* Label box, darken color on hover, fitted */\n",
       "#sk-container-id-1 div.sk-label.fitted:hover label.sk-toggleable__label.fitted {\n",
       "  color: var(--sklearn-color-text);\n",
       "  background-color: var(--sklearn-color-fitted-level-2);\n",
       "}\n",
       "\n",
       "/* Estimator label */\n",
       "\n",
       "#sk-container-id-1 div.sk-label label {\n",
       "  font-family: monospace;\n",
       "  font-weight: bold;\n",
       "  display: inline-block;\n",
       "  line-height: 1.2em;\n",
       "}\n",
       "\n",
       "#sk-container-id-1 div.sk-label-container {\n",
       "  text-align: center;\n",
       "}\n",
       "\n",
       "/* Estimator-specific */\n",
       "#sk-container-id-1 div.sk-estimator {\n",
       "  font-family: monospace;\n",
       "  border: 1px dotted var(--sklearn-color-border-box);\n",
       "  border-radius: 0.25em;\n",
       "  box-sizing: border-box;\n",
       "  margin-bottom: 0.5em;\n",
       "  /* unfitted */\n",
       "  background-color: var(--sklearn-color-unfitted-level-0);\n",
       "}\n",
       "\n",
       "#sk-container-id-1 div.sk-estimator.fitted {\n",
       "  /* fitted */\n",
       "  background-color: var(--sklearn-color-fitted-level-0);\n",
       "}\n",
       "\n",
       "/* on hover */\n",
       "#sk-container-id-1 div.sk-estimator:hover {\n",
       "  /* unfitted */\n",
       "  background-color: var(--sklearn-color-unfitted-level-2);\n",
       "}\n",
       "\n",
       "#sk-container-id-1 div.sk-estimator.fitted:hover {\n",
       "  /* fitted */\n",
       "  background-color: var(--sklearn-color-fitted-level-2);\n",
       "}\n",
       "\n",
       "/* Specification for estimator info (e.g. \"i\" and \"?\") */\n",
       "\n",
       "/* Common style for \"i\" and \"?\" */\n",
       "\n",
       ".sk-estimator-doc-link,\n",
       "a:link.sk-estimator-doc-link,\n",
       "a:visited.sk-estimator-doc-link {\n",
       "  float: right;\n",
       "  font-size: smaller;\n",
       "  line-height: 1em;\n",
       "  font-family: monospace;\n",
       "  background-color: var(--sklearn-color-background);\n",
       "  border-radius: 1em;\n",
       "  height: 1em;\n",
       "  width: 1em;\n",
       "  text-decoration: none !important;\n",
       "  margin-left: 1ex;\n",
       "  /* unfitted */\n",
       "  border: var(--sklearn-color-unfitted-level-1) 1pt solid;\n",
       "  color: var(--sklearn-color-unfitted-level-1);\n",
       "}\n",
       "\n",
       ".sk-estimator-doc-link.fitted,\n",
       "a:link.sk-estimator-doc-link.fitted,\n",
       "a:visited.sk-estimator-doc-link.fitted {\n",
       "  /* fitted */\n",
       "  border: var(--sklearn-color-fitted-level-1) 1pt solid;\n",
       "  color: var(--sklearn-color-fitted-level-1);\n",
       "}\n",
       "\n",
       "/* On hover */\n",
       "div.sk-estimator:hover .sk-estimator-doc-link:hover,\n",
       ".sk-estimator-doc-link:hover,\n",
       "div.sk-label-container:hover .sk-estimator-doc-link:hover,\n",
       ".sk-estimator-doc-link:hover {\n",
       "  /* unfitted */\n",
       "  background-color: var(--sklearn-color-unfitted-level-3);\n",
       "  color: var(--sklearn-color-background);\n",
       "  text-decoration: none;\n",
       "}\n",
       "\n",
       "div.sk-estimator.fitted:hover .sk-estimator-doc-link.fitted:hover,\n",
       ".sk-estimator-doc-link.fitted:hover,\n",
       "div.sk-label-container:hover .sk-estimator-doc-link.fitted:hover,\n",
       ".sk-estimator-doc-link.fitted:hover {\n",
       "  /* fitted */\n",
       "  background-color: var(--sklearn-color-fitted-level-3);\n",
       "  color: var(--sklearn-color-background);\n",
       "  text-decoration: none;\n",
       "}\n",
       "\n",
       "/* Span, style for the box shown on hovering the info icon */\n",
       ".sk-estimator-doc-link span {\n",
       "  display: none;\n",
       "  z-index: 9999;\n",
       "  position: relative;\n",
       "  font-weight: normal;\n",
       "  right: .2ex;\n",
       "  padding: .5ex;\n",
       "  margin: .5ex;\n",
       "  width: min-content;\n",
       "  min-width: 20ex;\n",
       "  max-width: 50ex;\n",
       "  color: var(--sklearn-color-text);\n",
       "  box-shadow: 2pt 2pt 4pt #999;\n",
       "  /* unfitted */\n",
       "  background: var(--sklearn-color-unfitted-level-0);\n",
       "  border: .5pt solid var(--sklearn-color-unfitted-level-3);\n",
       "}\n",
       "\n",
       ".sk-estimator-doc-link.fitted span {\n",
       "  /* fitted */\n",
       "  background: var(--sklearn-color-fitted-level-0);\n",
       "  border: var(--sklearn-color-fitted-level-3);\n",
       "}\n",
       "\n",
       ".sk-estimator-doc-link:hover span {\n",
       "  display: block;\n",
       "}\n",
       "\n",
       "/* \"?\"-specific style due to the `<a>` HTML tag */\n",
       "\n",
       "#sk-container-id-1 a.estimator_doc_link {\n",
       "  float: right;\n",
       "  font-size: 1rem;\n",
       "  line-height: 1em;\n",
       "  font-family: monospace;\n",
       "  background-color: var(--sklearn-color-background);\n",
       "  border-radius: 1rem;\n",
       "  height: 1rem;\n",
       "  width: 1rem;\n",
       "  text-decoration: none;\n",
       "  /* unfitted */\n",
       "  color: var(--sklearn-color-unfitted-level-1);\n",
       "  border: var(--sklearn-color-unfitted-level-1) 1pt solid;\n",
       "}\n",
       "\n",
       "#sk-container-id-1 a.estimator_doc_link.fitted {\n",
       "  /* fitted */\n",
       "  border: var(--sklearn-color-fitted-level-1) 1pt solid;\n",
       "  color: var(--sklearn-color-fitted-level-1);\n",
       "}\n",
       "\n",
       "/* On hover */\n",
       "#sk-container-id-1 a.estimator_doc_link:hover {\n",
       "  /* unfitted */\n",
       "  background-color: var(--sklearn-color-unfitted-level-3);\n",
       "  color: var(--sklearn-color-background);\n",
       "  text-decoration: none;\n",
       "}\n",
       "\n",
       "#sk-container-id-1 a.estimator_doc_link.fitted:hover {\n",
       "  /* fitted */\n",
       "  background-color: var(--sklearn-color-fitted-level-3);\n",
       "}\n",
       "</style><div id=\"sk-container-id-1\" class=\"sk-top-container\"><div class=\"sk-text-repr-fallback\"><pre>ExtraTreesRegressor(n_jobs=-1)</pre><b>In a Jupyter environment, please rerun this cell to show the HTML representation or trust the notebook. <br />On GitHub, the HTML representation is unable to render, please try loading this page with nbviewer.org.</b></div><div class=\"sk-container\" hidden><div class=\"sk-item\"><div class=\"sk-estimator fitted sk-toggleable\"><input class=\"sk-toggleable__control sk-hidden--visually\" id=\"sk-estimator-id-1\" type=\"checkbox\" checked><label for=\"sk-estimator-id-1\" class=\"sk-toggleable__label fitted sk-toggleable__label-arrow fitted\">&nbsp;&nbsp;ExtraTreesRegressor<a class=\"sk-estimator-doc-link fitted\" rel=\"noreferrer\" target=\"_blank\" href=\"https://scikit-learn.org/1.5/modules/generated/sklearn.ensemble.ExtraTreesRegressor.html\">?<span>Documentation for ExtraTreesRegressor</span></a><span class=\"sk-estimator-doc-link fitted\">i<span>Fitted</span></span></label><div class=\"sk-toggleable__content fitted\"><pre>ExtraTreesRegressor(n_jobs=-1)</pre></div> </div></div></div></div>"
      ],
      "text/plain": [
       "ExtraTreesRegressor(n_jobs=-1)"
      ]
     },
     "execution_count": 37,
     "metadata": {},
     "output_type": "execute_result"
    }
   ],
   "source": [
    "import sklearn\n",
    "import sklearn.ensemble\n",
    "from sklearn.metrics import mean_absolute_error, mean_squared_error\n",
    "\n",
    "model = sklearn.ensemble.ExtraTreesRegressor(n_jobs=-1)\n",
    "model.fit(train_data[0], train_data[1])"
   ]
  },
  {
   "cell_type": "code",
   "execution_count": 39,
   "metadata": {},
   "outputs": [
    {
     "data": {
      "text/plain": [
       "(254.80910804285062, 12.251619826605735)"
      ]
     },
     "execution_count": 39,
     "metadata": {},
     "output_type": "execute_result"
    }
   ],
   "source": [
    "pred = model.predict(test_data[0])\n",
    "mean_squared_error(test_data[1], pred), mean_absolute_error(test_data[1], pred)"
   ]
  },
  {
   "cell_type": "code",
   "execution_count": null,
   "metadata": {},
   "outputs": [],
   "source": []
  }
 ],
 "metadata": {
  "kernelspec": {
   "display_name": "tf",
   "language": "python",
   "name": "python3"
  },
  "language_info": {
   "codemirror_mode": {
    "name": "ipython",
    "version": 3
   },
   "file_extension": ".py",
   "mimetype": "text/x-python",
   "name": "python",
   "nbconvert_exporter": "python",
   "pygments_lexer": "ipython3",
   "version": "3.9.19"
  }
 },
 "nbformat": 4,
 "nbformat_minor": 2
}
