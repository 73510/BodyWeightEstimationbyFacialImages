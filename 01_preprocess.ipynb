{
 "cells": [
  {
   "cell_type": "code",
   "execution_count": 16,
   "metadata": {},
   "outputs": [],
   "source": [
    "import numpy as np\n",
    "import matplotlib.pyplot as plt\n",
    "import pandas as pd\n",
    "import seaborn as sns"
   ]
  },
  {
   "cell_type": "code",
   "execution_count": 17,
   "metadata": {},
   "outputs": [],
   "source": [
    "import os\n",
    "\n",
    "# os.environ[\"CUDA_VISIBLE_DEVICES\"] = \"1\"\n",
    "os.environ[\"TF_CPP_MIN_LOG_LEVEL\"] = \"1\""
   ]
  },
  {
   "cell_type": "code",
   "execution_count": 18,
   "metadata": {},
   "outputs": [],
   "source": [
    "import tensorflow as tf"
   ]
  },
  {
   "cell_type": "code",
   "execution_count": 19,
   "metadata": {},
   "outputs": [],
   "source": [
    "import tensorflow.keras.backend as K"
   ]
  },
  {
   "cell_type": "code",
   "execution_count": 20,
   "metadata": {},
   "outputs": [],
   "source": [
    "from tensorflow.keras.applications import EfficientNetB0\n",
    "from tensorflow.keras.applications.efficientnet import preprocess_input\n",
    "import matplotlib.pyplot as plt"
   ]
  },
  {
   "cell_type": "code",
   "execution_count": 21,
   "metadata": {},
   "outputs": [],
   "source": [
    "gpus = tf.config.experimental.list_physical_devices('GPU')\n",
    "if gpus:\n",
    "  try:\n",
    "    tf.config.experimental.set_virtual_device_configuration(gpus[0], [tf.config.experimental.VirtualDeviceConfiguration(memory_limit=1024*6)])\n",
    "  except RuntimeError as e:\n",
    "    print(e)"
   ]
  },
  {
   "cell_type": "code",
   "execution_count": 51,
   "metadata": {},
   "outputs": [],
   "source": [
    "df = pd.read_csv('edge_images/labels_utf8.csv')"
   ]
  },
  {
   "cell_type": "code",
   "execution_count": 52,
   "metadata": {},
   "outputs": [
    {
     "name": "stdout",
     "output_type": "stream",
     "text": [
      "<class 'pandas.core.frame.DataFrame'>\n",
      "RangeIndex: 53480 entries, 0 to 53479\n",
      "Data columns (total 9 columns):\n",
      " #   Column        Non-Null Count  Dtype \n",
      "---  ------        --------------  ----- \n",
      " 0   ID            53480 non-null  object\n",
      " 1   Sex           53480 non-null  object\n",
      " 2   Height        53480 non-null  object\n",
      " 3   Weight        53480 non-null  object\n",
      " 4   Hair          53480 non-null  object\n",
      " 5   Eyes          53480 non-null  object\n",
      " 6   Race          53480 non-null  object\n",
      " 7   Sex Offender  53480 non-null  bool  \n",
      " 8   Offense       53480 non-null  object\n",
      "dtypes: bool(1), object(8)\n",
      "memory usage: 3.3+ MB\n"
     ]
    }
   ],
   "source": [
    "df.info()"
   ]
  },
  {
   "cell_type": "code",
   "execution_count": 53,
   "metadata": {},
   "outputs": [
    {
     "data": {
      "text/plain": [
       "Index([40515, 40520, 40525, 40528, 40529, 40530, 40531, 40532, 40536, 40537,\n",
       "       40538, 40539, 40541, 40542, 40546, 40550, 40552, 40555, 40558, 40563,\n",
       "       40566, 40569, 40570, 40572, 40573, 40579, 40580, 40582, 40585, 40587,\n",
       "       40588, 40591, 40592, 40593, 40599, 40604, 40605, 40609, 40610, 40614,\n",
       "       40619, 40626, 40631, 40635, 40644, 40658, 40661, 40662, 40664, 40665,\n",
       "       40705, 40728, 40748, 48338, 50288, 53237, 53238, 53239, 53241, 53242,\n",
       "       53243, 53244],\n",
       "      dtype='int64')"
      ]
     },
     "execution_count": 53,
     "metadata": {},
     "output_type": "execute_result"
    }
   ],
   "source": [
    "df[df['Height'].str.split(' ').str[1]!='ft.'].index"
   ]
  },
  {
   "cell_type": "code",
   "execution_count": 54,
   "metadata": {},
   "outputs": [],
   "source": [
    "df.drop(df[df['Height'].str.split(' ').str[1] != 'ft.'].index, axis=0, inplace=True)"
   ]
  },
  {
   "cell_type": "code",
   "execution_count": 55,
   "metadata": {},
   "outputs": [],
   "source": [
    "df['Height_cm'] = df['Height'].str.split(' ').apply(lambda x: float(x[0])*30.48 + float(x[2])*2.54)"
   ]
  },
  {
   "cell_type": "code",
   "execution_count": 56,
   "metadata": {},
   "outputs": [],
   "source": [
    "df.drop(df[df['Weight'].str.split(' ').str[1]!= 'lbs.'].index, axis=0, inplace=True)"
   ]
  },
  {
   "cell_type": "code",
   "execution_count": 57,
   "metadata": {},
   "outputs": [],
   "source": [
    "df['Weight_kg'] = df['Weight'].str.split(' ').apply(lambda x: float(x[0])*0.453592)"
   ]
  },
  {
   "cell_type": "code",
   "execution_count": 58,
   "metadata": {},
   "outputs": [
    {
     "data": {
      "text/html": [
       "<div>\n",
       "<style scoped>\n",
       "    .dataframe tbody tr th:only-of-type {\n",
       "        vertical-align: middle;\n",
       "    }\n",
       "\n",
       "    .dataframe tbody tr th {\n",
       "        vertical-align: top;\n",
       "    }\n",
       "\n",
       "    .dataframe thead th {\n",
       "        text-align: right;\n",
       "    }\n",
       "</style>\n",
       "<table border=\"1\" class=\"dataframe\">\n",
       "  <thead>\n",
       "    <tr style=\"text-align: right;\">\n",
       "      <th></th>\n",
       "      <th>Height_cm</th>\n",
       "      <th>Weight_kg</th>\n",
       "    </tr>\n",
       "  </thead>\n",
       "  <tbody>\n",
       "    <tr>\n",
       "      <th>count</th>\n",
       "      <td>53416.000000</td>\n",
       "      <td>53416.000000</td>\n",
       "    </tr>\n",
       "    <tr>\n",
       "      <th>mean</th>\n",
       "      <td>175.885252</td>\n",
       "      <td>85.522047</td>\n",
       "    </tr>\n",
       "    <tr>\n",
       "      <th>std</th>\n",
       "      <td>8.470990</td>\n",
       "      <td>17.039862</td>\n",
       "    </tr>\n",
       "    <tr>\n",
       "      <th>min</th>\n",
       "      <td>121.920000</td>\n",
       "      <td>7.711064</td>\n",
       "    </tr>\n",
       "    <tr>\n",
       "      <th>25%</th>\n",
       "      <td>170.180000</td>\n",
       "      <td>73.481904</td>\n",
       "    </tr>\n",
       "    <tr>\n",
       "      <th>50%</th>\n",
       "      <td>175.260000</td>\n",
       "      <td>83.007336</td>\n",
       "    </tr>\n",
       "    <tr>\n",
       "      <th>75%</th>\n",
       "      <td>182.880000</td>\n",
       "      <td>95.254320</td>\n",
       "    </tr>\n",
       "    <tr>\n",
       "      <th>max</th>\n",
       "      <td>241.300000</td>\n",
       "      <td>250.836376</td>\n",
       "    </tr>\n",
       "  </tbody>\n",
       "</table>\n",
       "</div>"
      ],
      "text/plain": [
       "          Height_cm     Weight_kg\n",
       "count  53416.000000  53416.000000\n",
       "mean     175.885252     85.522047\n",
       "std        8.470990     17.039862\n",
       "min      121.920000      7.711064\n",
       "25%      170.180000     73.481904\n",
       "50%      175.260000     83.007336\n",
       "75%      182.880000     95.254320\n",
       "max      241.300000    250.836376"
      ]
     },
     "execution_count": 58,
     "metadata": {},
     "output_type": "execute_result"
    }
   ],
   "source": [
    "df.describe()"
   ]
  },
  {
   "cell_type": "code",
   "execution_count": 59,
   "metadata": {},
   "outputs": [
    {
     "data": {
      "text/plain": [
       "0        A00147\n",
       "1        A00198\n",
       "2        A01072\n",
       "3        A01077\n",
       "4        A01148\n",
       "          ...  \n",
       "53475    X77379\n",
       "53476    X77382\n",
       "53477    X77391\n",
       "53478    X77410\n",
       "53479    X77425\n",
       "Length: 53480, dtype: object"
      ]
     },
     "execution_count": 59,
     "metadata": {},
     "output_type": "execute_result"
    }
   ],
   "source": [
    "import os\n",
    "\n",
    "img_filenames = os.listdir('edge_images/front/front')\n",
    "\n",
    "img_filenames = pd.Series(img_filenames).apply(lambda x : str(x).split('.')[0])\n",
    "\n",
    "img_filenames"
   ]
  },
  {
   "cell_type": "code",
   "execution_count": 60,
   "metadata": {},
   "outputs": [
    {
     "data": {
      "text/plain": [
       "False"
      ]
     },
     "execution_count": 60,
     "metadata": {},
     "output_type": "execute_result"
    }
   ],
   "source": [
    "np.any(~df['ID'].isin(img_filenames))"
   ]
  },
  {
   "cell_type": "code",
   "execution_count": 61,
   "metadata": {},
   "outputs": [
    {
     "data": {
      "text/html": [
       "<div>\n",
       "<style scoped>\n",
       "    .dataframe tbody tr th:only-of-type {\n",
       "        vertical-align: middle;\n",
       "    }\n",
       "\n",
       "    .dataframe tbody tr th {\n",
       "        vertical-align: top;\n",
       "    }\n",
       "\n",
       "    .dataframe thead th {\n",
       "        text-align: right;\n",
       "    }\n",
       "</style>\n",
       "<table border=\"1\" class=\"dataframe\">\n",
       "  <thead>\n",
       "    <tr style=\"text-align: right;\">\n",
       "      <th></th>\n",
       "      <th>ID</th>\n",
       "      <th>Sex</th>\n",
       "      <th>Height</th>\n",
       "      <th>Weight</th>\n",
       "      <th>Hair</th>\n",
       "      <th>Eyes</th>\n",
       "      <th>Race</th>\n",
       "      <th>Sex Offender</th>\n",
       "      <th>Offense</th>\n",
       "      <th>Height_cm</th>\n",
       "      <th>Weight_kg</th>\n",
       "    </tr>\n",
       "  </thead>\n",
       "  <tbody>\n",
       "    <tr>\n",
       "      <th>0</th>\n",
       "      <td>A00147</td>\n",
       "      <td>Male</td>\n",
       "      <td>5 ft. 07 in.</td>\n",
       "      <td>185 lbs.</td>\n",
       "      <td>Brown</td>\n",
       "      <td>Blue</td>\n",
       "      <td>White</td>\n",
       "      <td>True</td>\n",
       "      <td>AGGR KIDNAPPING-NO RANSOM, ATTEMPT MURDER/INTE...</td>\n",
       "      <td>170.18</td>\n",
       "      <td>83.914520</td>\n",
       "    </tr>\n",
       "    <tr>\n",
       "      <th>1</th>\n",
       "      <td>A00198</td>\n",
       "      <td>Male</td>\n",
       "      <td>6 ft. 02 in.</td>\n",
       "      <td>190 lbs.</td>\n",
       "      <td>Red or Auburn</td>\n",
       "      <td>Brown</td>\n",
       "      <td>White</td>\n",
       "      <td>False</td>\n",
       "      <td>CRIM DMG TO PROP $300-10K, ATTEMPT AGG BATTERY...</td>\n",
       "      <td>187.96</td>\n",
       "      <td>86.182480</td>\n",
       "    </tr>\n",
       "    <tr>\n",
       "      <th>2</th>\n",
       "      <td>A01072</td>\n",
       "      <td>Male</td>\n",
       "      <td>5 ft. 09 in.</td>\n",
       "      <td>195 lbs.</td>\n",
       "      <td>Black</td>\n",
       "      <td>Brown</td>\n",
       "      <td>Black</td>\n",
       "      <td>False</td>\n",
       "      <td>MURDER/INTENT TO KILL/INJURE, CONSP MURDER/INT...</td>\n",
       "      <td>175.26</td>\n",
       "      <td>88.450440</td>\n",
       "    </tr>\n",
       "    <tr>\n",
       "      <th>3</th>\n",
       "      <td>A01077</td>\n",
       "      <td>Male</td>\n",
       "      <td>5 ft. 08 in.</td>\n",
       "      <td>180 lbs.</td>\n",
       "      <td>Black</td>\n",
       "      <td>Brown</td>\n",
       "      <td>Black</td>\n",
       "      <td>False</td>\n",
       "      <td>MURDER/INTENT TO KILL/INJURE, AGG BATTERY/GREA...</td>\n",
       "      <td>172.72</td>\n",
       "      <td>81.646560</td>\n",
       "    </tr>\n",
       "    <tr>\n",
       "      <th>4</th>\n",
       "      <td>A01148</td>\n",
       "      <td>Male</td>\n",
       "      <td>5 ft. 11 in.</td>\n",
       "      <td>170 lbs.</td>\n",
       "      <td>Black</td>\n",
       "      <td>Brown</td>\n",
       "      <td>Black</td>\n",
       "      <td>False</td>\n",
       "      <td>MURDER/INTENT TO KILL/INJURE, ATTEMPT MURDER/I...</td>\n",
       "      <td>180.34</td>\n",
       "      <td>77.110640</td>\n",
       "    </tr>\n",
       "    <tr>\n",
       "      <th>...</th>\n",
       "      <td>...</td>\n",
       "      <td>...</td>\n",
       "      <td>...</td>\n",
       "      <td>...</td>\n",
       "      <td>...</td>\n",
       "      <td>...</td>\n",
       "      <td>...</td>\n",
       "      <td>...</td>\n",
       "      <td>...</td>\n",
       "      <td>...</td>\n",
       "      <td>...</td>\n",
       "    </tr>\n",
       "    <tr>\n",
       "      <th>53475</th>\n",
       "      <td>Y29993</td>\n",
       "      <td>Male</td>\n",
       "      <td>5 ft. 05 in.</td>\n",
       "      <td>180 lbs.</td>\n",
       "      <td>Black</td>\n",
       "      <td>Brown</td>\n",
       "      <td>Black</td>\n",
       "      <td>False</td>\n",
       "      <td>RESIDENTIAL BURGLARY, RESIDENTIAL BURGLARY, AT...</td>\n",
       "      <td>165.10</td>\n",
       "      <td>81.646560</td>\n",
       "    </tr>\n",
       "    <tr>\n",
       "      <th>53476</th>\n",
       "      <td>Y29994</td>\n",
       "      <td>Male</td>\n",
       "      <td>5 ft. 06 in.</td>\n",
       "      <td>200 lbs.</td>\n",
       "      <td>Black</td>\n",
       "      <td>Brown</td>\n",
       "      <td>Hispanic</td>\n",
       "      <td>False</td>\n",
       "      <td>KIDNAPING/FORCE OR THREAT</td>\n",
       "      <td>167.64</td>\n",
       "      <td>90.718400</td>\n",
       "    </tr>\n",
       "    <tr>\n",
       "      <th>53477</th>\n",
       "      <td>Y29996</td>\n",
       "      <td>Male</td>\n",
       "      <td>5 ft. 08 in.</td>\n",
       "      <td>150 lbs.</td>\n",
       "      <td>Black</td>\n",
       "      <td>Brown</td>\n",
       "      <td>Black</td>\n",
       "      <td>False</td>\n",
       "      <td>RESIDENTIAL BURGLARY, RESIDENTIAL BURGLARY, RE...</td>\n",
       "      <td>172.72</td>\n",
       "      <td>68.038800</td>\n",
       "    </tr>\n",
       "    <tr>\n",
       "      <th>53478</th>\n",
       "      <td>Y30000</td>\n",
       "      <td>Male</td>\n",
       "      <td>5 ft. 06 in.</td>\n",
       "      <td>172 lbs.</td>\n",
       "      <td>Brown</td>\n",
       "      <td>Green</td>\n",
       "      <td>White</td>\n",
       "      <td>False</td>\n",
       "      <td>AGG BTRY/CHILD</td>\n",
       "      <td>167.64</td>\n",
       "      <td>78.017824</td>\n",
       "    </tr>\n",
       "    <tr>\n",
       "      <th>53479</th>\n",
       "      <td>Y54605</td>\n",
       "      <td>Male</td>\n",
       "      <td>5 ft. 10 in.</td>\n",
       "      <td>190 lbs.</td>\n",
       "      <td>Black</td>\n",
       "      <td>Hazel</td>\n",
       "      <td>White</td>\n",
       "      <td>False</td>\n",
       "      <td>INVOL SEX SERV MINOR AGE 17-18, INVOL SEX SERV...</td>\n",
       "      <td>177.80</td>\n",
       "      <td>86.182480</td>\n",
       "    </tr>\n",
       "  </tbody>\n",
       "</table>\n",
       "<p>53416 rows × 11 columns</p>\n",
       "</div>"
      ],
      "text/plain": [
       "           ID   Sex        Height    Weight           Hair   Eyes      Race  \\\n",
       "0      A00147  Male  5 ft. 07 in.  185 lbs.          Brown   Blue     White   \n",
       "1      A00198  Male  6 ft. 02 in.  190 lbs.  Red or Auburn  Brown     White   \n",
       "2      A01072  Male  5 ft. 09 in.  195 lbs.          Black  Brown     Black   \n",
       "3      A01077  Male  5 ft. 08 in.  180 lbs.          Black  Brown     Black   \n",
       "4      A01148  Male  5 ft. 11 in.  170 lbs.          Black  Brown     Black   \n",
       "...       ...   ...           ...       ...            ...    ...       ...   \n",
       "53475  Y29993  Male  5 ft. 05 in.  180 lbs.          Black  Brown     Black   \n",
       "53476  Y29994  Male  5 ft. 06 in.  200 lbs.          Black  Brown  Hispanic   \n",
       "53477  Y29996  Male  5 ft. 08 in.  150 lbs.          Black  Brown     Black   \n",
       "53478  Y30000  Male  5 ft. 06 in.  172 lbs.          Brown  Green     White   \n",
       "53479  Y54605  Male  5 ft. 10 in.  190 lbs.          Black  Hazel     White   \n",
       "\n",
       "       Sex Offender                                            Offense  \\\n",
       "0              True  AGGR KIDNAPPING-NO RANSOM, ATTEMPT MURDER/INTE...   \n",
       "1             False  CRIM DMG TO PROP $300-10K, ATTEMPT AGG BATTERY...   \n",
       "2             False  MURDER/INTENT TO KILL/INJURE, CONSP MURDER/INT...   \n",
       "3             False  MURDER/INTENT TO KILL/INJURE, AGG BATTERY/GREA...   \n",
       "4             False  MURDER/INTENT TO KILL/INJURE, ATTEMPT MURDER/I...   \n",
       "...             ...                                                ...   \n",
       "53475         False  RESIDENTIAL BURGLARY, RESIDENTIAL BURGLARY, AT...   \n",
       "53476         False                          KIDNAPING/FORCE OR THREAT   \n",
       "53477         False  RESIDENTIAL BURGLARY, RESIDENTIAL BURGLARY, RE...   \n",
       "53478         False                                     AGG BTRY/CHILD   \n",
       "53479         False  INVOL SEX SERV MINOR AGE 17-18, INVOL SEX SERV...   \n",
       "\n",
       "       Height_cm  Weight_kg  \n",
       "0         170.18  83.914520  \n",
       "1         187.96  86.182480  \n",
       "2         175.26  88.450440  \n",
       "3         172.72  81.646560  \n",
       "4         180.34  77.110640  \n",
       "...          ...        ...  \n",
       "53475     165.10  81.646560  \n",
       "53476     167.64  90.718400  \n",
       "53477     172.72  68.038800  \n",
       "53478     167.64  78.017824  \n",
       "53479     177.80  86.182480  \n",
       "\n",
       "[53416 rows x 11 columns]"
      ]
     },
     "execution_count": 61,
     "metadata": {},
     "output_type": "execute_result"
    }
   ],
   "source": [
    "df"
   ]
  },
  {
   "cell_type": "code",
   "execution_count": 62,
   "metadata": {},
   "outputs": [],
   "source": [
    "df.to_csv('edge_images/preprocessed.csv', index=False)"
   ]
  },
  {
   "cell_type": "code",
   "execution_count": null,
   "metadata": {},
   "outputs": [],
   "source": []
  }
 ],
 "metadata": {
  "kernelspec": {
   "display_name": "Python 3 (ipykernel)",
   "language": "python",
   "name": "python3"
  },
  "language_info": {
   "codemirror_mode": {
    "name": "ipython",
    "version": 3
   },
   "file_extension": ".py",
   "mimetype": "text/x-python",
   "name": "python",
   "nbconvert_exporter": "python",
   "pygments_lexer": "ipython3",
   "version": "3.9.19"
  }
 },
 "nbformat": 4,
 "nbformat_minor": 2
}
